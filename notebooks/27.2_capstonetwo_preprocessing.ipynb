{
 "cells": [
  {
   "cell_type": "markdown",
   "id": "477af41d-8826-4704-94fa-4fb9e57da641",
   "metadata": {},
   "source": [
    "# 0. Table of content:"
   ]
  },
  {
   "cell_type": "markdown",
   "id": "58eccacf-0635-435a-8adb-c61fef26177d",
   "metadata": {},
   "source": [
    "[1. Import and data load:](#1.-Import-and-data-load:)  \n",
    "[2. Predictors check:](#2.-Predictors-check:)  \n",
    "&nbsp;&nbsp;&nbsp;&nbsp;- [2.1. General:](#2.1.-General:)  \n",
    "&nbsp;&nbsp;&nbsp;&nbsp;- [2.2. Categorical data:](#2.2.-Categorical-data:)  \n",
    "&nbsp;&nbsp;&nbsp;&nbsp;- [2.3. Numerical data:](#2.3.-Numerical-data:)  \n",
    "[3. Target data check:](#3.-Target-data-check:)  \n",
    "&nbsp;&nbsp;&nbsp;&nbsp;- [3.1. Target data distribution:](#3.1.-Target-data-distribution:)  \n",
    "&nbsp;&nbsp;&nbsp;&nbsp;- [3.2. Class imbalance management:](#3.2.-Class-imbalance-management:)  \n",
    "[4. Categorical data handling:](#4.-Categorical-data-handling:)  \n",
    "&nbsp;&nbsp;&nbsp;&nbsp;- [4.1. Regression models:](#4.1.-Regression-models:)  \n",
    "&nbsp;&nbsp;&nbsp;&nbsp;- [4.2. Tree models:](#4.2.-Tree-models:)  \n",
    "[5. Workflow explanation:](#5.-Workflow-explanation:)  \n",
    "[6. Data split:](#6.-Data-split:)  \n",
    "[7. Target class imbalance:](#7.-Target-class-imbalance:)  \n",
    "[8. Tree-based models and target encoding:](#8.-Tree-based-models-and-target-encoding:)  \n",
    "[9. Regression-based models, one-hot encoding and align:](#9.-Regression-based-models,-one-hot-encoding-and-align:)   \n",
    "[10. Data scaling:](#10.-Data-scaling:)  \n",
    "[11. Finaloutputs:](#11.-Finaloutputs:)  \n",
    "[12. Datasets save:](#12.-Datasets-save:)  \n"
   ]
  },
  {
   "cell_type": "markdown",
   "id": "9a69f0a3-c74f-4bcb-9aa7-3a4dc78be8d3",
   "metadata": {},
   "source": [
    "# 1. Import and data load:"
   ]
  },
  {
   "cell_type": "code",
   "execution_count": 5,
   "id": "2eca9f11-9029-4ada-af45-017b15cad59d",
   "metadata": {},
   "outputs": [],
   "source": [
    "import os\n",
    "import io\n",
    "import zipfile\n",
    "\n",
    "import numpy as np\n",
    "import pandas as pd\n",
    "import matplotlib.pyplot as plt\n",
    "import sklearn\n",
    "\n",
    "from sklearn.model_selection import train_test_split\n",
    "from sklearn.preprocessing import StandardScaler\n",
    "from category_encoders import TargetEncoder\n",
    "\n",
    "from IPython.display import IFrame\n",
    "\n",
    "import warnings\n",
    "warnings.filterwarnings(\"ignore\", category=FutureWarning)\n",
    "\n",
    "%matplotlib inline"
   ]
  },
  {
   "cell_type": "code",
   "execution_count": 6,
   "id": "77402dd9-cbf1-4fd6-b9ae-bc391f0e6793",
   "metadata": {},
   "outputs": [
    {
     "data": {
      "text/html": [
       "\n",
       "        <iframe\n",
       "            width=\"1000\"\n",
       "            height=\"600\"\n",
       "            src=\"..\\references\\04_preprocessing\\1687275957_Capstone_Two_Step_4__Preprocessing_Training_Data_Development.pdf\"\n",
       "            frameborder=\"0\"\n",
       "            allowfullscreen\n",
       "            \n",
       "        ></iframe>\n",
       "        "
      ],
      "text/plain": [
       "<IPython.lib.display.IFrame at 0x15b4b8a2410>"
      ]
     },
     "execution_count": 6,
     "metadata": {},
     "output_type": "execute_result"
    }
   ],
   "source": [
    "IFrame(r\"..\\references\\04_preprocessing\\1687275957_Capstone_Two_Step_4__Preprocessing_Training_Data_Development.pdf\", width=1000, height=600)"
   ]
  },
  {
   "cell_type": "code",
   "execution_count": 7,
   "id": "309593ad-2cc5-430c-a44c-6dde36d9c0bf",
   "metadata": {},
   "outputs": [],
   "source": [
    "predictors_path = r\"..\\data\\raw\\sf_predictors02.csv\"\n",
    "target_path = r\"..\\data\\raw\\sf_target02.csv\""
   ]
  },
  {
   "cell_type": "code",
   "execution_count": 8,
   "id": "9d1a3f8f-64a7-4131-8fa5-b9383eaaa045",
   "metadata": {},
   "outputs": [
    {
     "data": {
      "text/html": [
       "<div>\n",
       "<style scoped>\n",
       "    .dataframe tbody tr th:only-of-type {\n",
       "        vertical-align: middle;\n",
       "    }\n",
       "\n",
       "    .dataframe tbody tr th {\n",
       "        vertical-align: top;\n",
       "    }\n",
       "\n",
       "    .dataframe thead th {\n",
       "        text-align: right;\n",
       "    }\n",
       "</style>\n",
       "<table border=\"1\" class=\"dataframe\">\n",
       "  <thead>\n",
       "    <tr style=\"text-align: right;\">\n",
       "      <th></th>\n",
       "      <th>Proposed Use</th>\n",
       "      <th>Neighborhoods - Analysis Boundaries</th>\n",
       "      <th>Estimated Cost</th>\n",
       "      <th>Supervisor District</th>\n",
       "      <th>Proposed Units</th>\n",
       "      <th>Number of Existing Stories</th>\n",
       "      <th>Proposed Construction Type</th>\n",
       "      <th>Plansets</th>\n",
       "    </tr>\n",
       "  </thead>\n",
       "  <tbody>\n",
       "    <tr>\n",
       "      <th>0</th>\n",
       "      <td>1 family dwelling</td>\n",
       "      <td>Tenderloin</td>\n",
       "      <td>4000.0</td>\n",
       "      <td>3</td>\n",
       "      <td>16</td>\n",
       "      <td>6</td>\n",
       "      <td>5</td>\n",
       "      <td>2</td>\n",
       "    </tr>\n",
       "    <tr>\n",
       "      <th>1</th>\n",
       "      <td>1 family dwelling</td>\n",
       "      <td>Tenderloin</td>\n",
       "      <td>1.0</td>\n",
       "      <td>3</td>\n",
       "      <td>16</td>\n",
       "      <td>7</td>\n",
       "      <td>5</td>\n",
       "      <td>2</td>\n",
       "    </tr>\n",
       "    <tr>\n",
       "      <th>2</th>\n",
       "      <td>1 family dwelling</td>\n",
       "      <td>Nob Hill</td>\n",
       "      <td>2000.0</td>\n",
       "      <td>3</td>\n",
       "      <td>1</td>\n",
       "      <td>2</td>\n",
       "      <td>5</td>\n",
       "      <td>2</td>\n",
       "    </tr>\n",
       "    <tr>\n",
       "      <th>3</th>\n",
       "      <td>1 family dwelling</td>\n",
       "      <td>Tenderloin</td>\n",
       "      <td>100000.0</td>\n",
       "      <td>6</td>\n",
       "      <td>16</td>\n",
       "      <td>3</td>\n",
       "      <td>5</td>\n",
       "      <td>2</td>\n",
       "    </tr>\n",
       "    <tr>\n",
       "      <th>4</th>\n",
       "      <td>apartments</td>\n",
       "      <td>Potrero Hill</td>\n",
       "      <td>4000.0</td>\n",
       "      <td>10</td>\n",
       "      <td>326</td>\n",
       "      <td>5</td>\n",
       "      <td>1</td>\n",
       "      <td>2</td>\n",
       "    </tr>\n",
       "  </tbody>\n",
       "</table>\n",
       "</div>"
      ],
      "text/plain": [
       "        Proposed Use Neighborhoods - Analysis Boundaries  Estimated Cost  \\\n",
       "0  1 family dwelling                          Tenderloin          4000.0   \n",
       "1  1 family dwelling                          Tenderloin             1.0   \n",
       "2  1 family dwelling                            Nob Hill          2000.0   \n",
       "3  1 family dwelling                          Tenderloin        100000.0   \n",
       "4         apartments                        Potrero Hill          4000.0   \n",
       "\n",
       "   Supervisor District  Proposed Units  Number of Existing Stories  \\\n",
       "0                    3              16                           6   \n",
       "1                    3              16                           7   \n",
       "2                    3               1                           2   \n",
       "3                    6              16                           3   \n",
       "4                   10             326                           5   \n",
       "\n",
       "   Proposed Construction Type  Plansets  \n",
       "0                           5         2  \n",
       "1                           5         2  \n",
       "2                           5         2  \n",
       "3                           5         2  \n",
       "4                           1         2  "
      ]
     },
     "execution_count": 8,
     "metadata": {},
     "output_type": "execute_result"
    }
   ],
   "source": [
    "df = pd.read_csv(predictors_path)\n",
    "df.head()"
   ]
  },
  {
   "cell_type": "code",
   "execution_count": 9,
   "id": "5fcd3847-403f-4de9-a178-677f27d498e8",
   "metadata": {},
   "outputs": [
    {
     "data": {
      "text/plain": [
       "(164689, 8)"
      ]
     },
     "execution_count": 9,
     "metadata": {},
     "output_type": "execute_result"
    }
   ],
   "source": [
    "df.shape"
   ]
  },
  {
   "cell_type": "code",
   "execution_count": 10,
   "id": "ca5adca0-d536-4d98-b1e6-7599d44fec4b",
   "metadata": {},
   "outputs": [
    {
     "data": {
      "text/html": [
       "<div>\n",
       "<style scoped>\n",
       "    .dataframe tbody tr th:only-of-type {\n",
       "        vertical-align: middle;\n",
       "    }\n",
       "\n",
       "    .dataframe tbody tr th {\n",
       "        vertical-align: top;\n",
       "    }\n",
       "\n",
       "    .dataframe thead th {\n",
       "        text-align: right;\n",
       "    }\n",
       "</style>\n",
       "<table border=\"1\" class=\"dataframe\">\n",
       "  <thead>\n",
       "    <tr style=\"text-align: right;\">\n",
       "      <th></th>\n",
       "      <th>Permit Type</th>\n",
       "    </tr>\n",
       "  </thead>\n",
       "  <tbody>\n",
       "    <tr>\n",
       "      <th>0</th>\n",
       "      <td>4</td>\n",
       "    </tr>\n",
       "    <tr>\n",
       "      <th>1</th>\n",
       "      <td>4</td>\n",
       "    </tr>\n",
       "    <tr>\n",
       "      <th>2</th>\n",
       "      <td>8</td>\n",
       "    </tr>\n",
       "    <tr>\n",
       "      <th>3</th>\n",
       "      <td>6</td>\n",
       "    </tr>\n",
       "    <tr>\n",
       "      <th>4</th>\n",
       "      <td>8</td>\n",
       "    </tr>\n",
       "  </tbody>\n",
       "</table>\n",
       "</div>"
      ],
      "text/plain": [
       "   Permit Type\n",
       "0            4\n",
       "1            4\n",
       "2            8\n",
       "3            6\n",
       "4            8"
      ]
     },
     "execution_count": 10,
     "metadata": {},
     "output_type": "execute_result"
    }
   ],
   "source": [
    "target = pd.read_csv(target_path)\n",
    "target.head()"
   ]
  },
  {
   "cell_type": "code",
   "execution_count": 11,
   "id": "3d5be0d0-3f9c-4a48-b682-5dda077dd9ed",
   "metadata": {},
   "outputs": [
    {
     "data": {
      "text/plain": [
       "(164689, 1)"
      ]
     },
     "execution_count": 11,
     "metadata": {},
     "output_type": "execute_result"
    }
   ],
   "source": [
    "target.shape"
   ]
  },
  {
   "cell_type": "markdown",
   "id": "d41d9194-26e0-43ee-b0c6-4af957602826",
   "metadata": {},
   "source": [
    "# 2. Predictors check:"
   ]
  },
  {
   "cell_type": "markdown",
   "id": "61bb4183-45a0-4395-85fb-a2e00be3f58c",
   "metadata": {},
   "source": [
    "## 2.1. General:"
   ]
  },
  {
   "cell_type": "code",
   "execution_count": 14,
   "id": "1c3927b3-88e7-4f57-9079-a9d257769c0f",
   "metadata": {},
   "outputs": [
    {
     "name": "stdout",
     "output_type": "stream",
     "text": [
      "<class 'pandas.core.frame.DataFrame'>\n",
      "RangeIndex: 164689 entries, 0 to 164688\n",
      "Data columns (total 8 columns):\n",
      " #   Column                               Non-Null Count   Dtype  \n",
      "---  ------                               --------------   -----  \n",
      " 0   Proposed Use                         164689 non-null  object \n",
      " 1   Neighborhoods - Analysis Boundaries  164689 non-null  object \n",
      " 2   Estimated Cost                       164689 non-null  float64\n",
      " 3   Supervisor District                  164689 non-null  int64  \n",
      " 4   Proposed Units                       164689 non-null  int64  \n",
      " 5   Number of Existing Stories           164689 non-null  int64  \n",
      " 6   Proposed Construction Type           164689 non-null  int64  \n",
      " 7   Plansets                             164689 non-null  int64  \n",
      "dtypes: float64(1), int64(5), object(2)\n",
      "memory usage: 10.1+ MB\n"
     ]
    }
   ],
   "source": [
    "df.info()"
   ]
  },
  {
   "cell_type": "code",
   "execution_count": 15,
   "id": "e4975679-0198-4319-b496-680ee3e89e6d",
   "metadata": {
    "scrolled": true
   },
   "outputs": [
    {
     "name": "stdout",
     "output_type": "stream",
     "text": [
      "Unique values for the 'Proposed Use' feature\n",
      "['1 family dwelling' 'apartments' 'church' 'vacant lot' 'office'\n",
      " '2 family dwelling' 'retail sales' 'school' 'filling/service stn'\n",
      " 'residential hotel' 'clinics-medic/dental' 'food/beverage hndlng'\n",
      " 'hospital' 'barber/beauty salon' 'warehouse,no frnitur'\n",
      " 'artist live/work' 'museum' 'lending institution' 'garment shops'\n",
      " 'tourist hotel/motel' 'child care' 'auto repairs' 'manufacturing'\n",
      " 'day care home lt 7' 'club' 'workshop commercial' 'warehouse, furniture'\n",
      " 'prkng garage/private' 'antenna' 'health studios & gym' 'printing plant'\n",
      " 'parking lot' 'workshop residential' 'storage shed' 'power plant'\n",
      " 'sfpd or sffd station' 'mortuary' 'animal sale or care'\n",
      " 'fence/retaining wall' 'nite club' 'paint store' 'recreation bldg'\n",
      " 'theater' 'nursery(floral)' 'massage parlor' 'prkng garage/public' 'sign'\n",
      " 'phone xchnge/equip' 'dance hall' 'muni carbarn' 'automobile sales'\n",
      " 'day care center' 'public assmbly other' 'greenhouse' 'library'\n",
      " 'social care facility' 'misc group residns.' 'laundry/laundromat'\n",
      " 'accessory cottage' 'amusement center' 'day care home gt 12'\n",
      " 'muni driver restroom' 'day care home 7 - 12' 'moving & storage'\n",
      " 'dry cleaners' 'tower' 'chemical processing' 'radio & tv stations'\n",
      " 'day care, non-res' 'nursing home non amb' 'wholesale sales' 'stadium'\n",
      " 'nursing home gt 6' 'sewage plant' 'convalescent home'\n",
      " \"prson'l svc tutor\" 'adult entertainment' 'dairies/dairy equip.'\n",
      " 'bath house' 'jail' 'christmas tree lot' 'r-3(dwg) nursing'\n",
      " 'sound studio' 'car wash' 'roofing materials' 'orphanage' 'swimming pool'\n",
      " 'ambulance service' 'not applicable' 'building materials' 'temple'\n",
      " 'nursing home lte 6' 'meat/produce marts' 'storage tanks']\n",
      "Unique values for the 'Neighborhoods - Analysis Boundaries' feature\n",
      "['Tenderloin' 'Nob Hill' 'Potrero Hill' 'Inner Sunset'\n",
      " 'Bayview Hunters Point' 'Lone Mountain/USF' 'Haight Ashbury'\n",
      " 'Castro/Upper Market' 'Hayes Valley' 'Noe Valley' 'Pacific Heights'\n",
      " 'Chinatown' 'Financial District/South Beach' 'Marina' 'Sunset/Parkside'\n",
      " 'Outer Richmond' 'Mission' 'Western Addition' 'Bernal Heights'\n",
      " 'Oceanview/Merced/Ingleside' 'Outer Mission' 'Portola' 'Russian Hill'\n",
      " 'Inner Richmond' 'Visitacion Valley' 'Presidio Heights'\n",
      " 'West of Twin Peaks' 'South of Market' 'Excelsior' 'North Beach'\n",
      " 'Mission Bay' 'Glen Park' 'Twin Peaks' 'Lincoln Park' 'Lakeshore'\n",
      " 'Seacliff' 'Treasure Island' 'Japantown' 'Golden Gate Park' 'Presidio'\n",
      " 'McLaren Park']\n",
      "Unique values for the 'Estimated Cost' feature\n",
      "[4.000000e+03 1.000000e+00 2.000000e+03 ... 1.153100e+04 1.289100e+04\n",
      " 1.845312e+04]\n",
      "Unique values for the 'Supervisor District' feature\n",
      "[ 3  6 10  5  8  2  4  1  7  9 11]\n",
      "Unique values for the 'Proposed Units' feature\n",
      "[  16    1  326    5    9    3    4    0    7   15    2    6   12    8\n",
      "   72   18  212   44   20   24  147   17   35   10   14   11   94   27\n",
      "  554  198   21   36  191   31  204   29   60   70   33   65   46   97\n",
      "   23   13   30   50  154   38   25   26   28   69   39   54  288   53\n",
      "   48   84   22   49   98   71   99   90   45  122   81   89  113   57\n",
      "   47   59   51  124   63   43   32   40   37   55  160  102   42  120\n",
      "   34  100  108   82  239  156   67   78  110  173  104   19  105  304\n",
      "   58  125  180  282  127   52  172  188   91  164   62   66   41  174\n",
      "   87  187  149  121  114   64   77  101   79   56  112   61  202  131\n",
      "   74  132  224  123   75  289  117  165  116  192   88  148  250  106\n",
      "  150  139  134   83   86   95  182  128  159  315   68  129  107  170\n",
      "  248  169  203   85  137   73   80  143  285  175  136  194   92  109\n",
      "  208  157  155  196  258  240  189  103  408  722  162   96  434  226\n",
      "   93  135  262  168  115  281  296  362  253  185  298  555  259  138\n",
      "  145  199  330  200  243  220  141  291  393  140  551  153  126  151\n",
      "  236  142  361  390   76  388  356  313  146  183  186  158  232  544\n",
      "  166  402  205  130  247  450  195  133  550  316  350  355  227  260\n",
      "  449  152  213  324  144  256  179  111  225  230  118  720  119  339\n",
      "  420  249  263 1186  265  359  233  398  190  221  193]\n",
      "Unique values for the 'Number of Existing Stories' feature\n",
      "[ 6  7  2  3  5  4  1  8  9 11 12 10  0]\n",
      "Unique values for the 'Proposed Construction Type' feature\n",
      "[5 1 3 4 2]\n",
      "Unique values for the 'Plansets' feature\n",
      "[   2    0    6    4    3 9000]\n"
     ]
    }
   ],
   "source": [
    "cols = list(df.columns)\n",
    "for c in cols:\n",
    "    print(f\"Unique values for the '{c}' feature\")\n",
    "    print(df[c].unique())"
   ]
  },
  {
   "cell_type": "markdown",
   "id": "27641a65-85ea-4417-9d6d-147d9429d83b",
   "metadata": {},
   "source": [
    "## 2.2. Categorical data:"
   ]
  },
  {
   "cell_type": "code",
   "execution_count": 17,
   "id": "d93af614-c63e-46f8-96e5-e45eae8ab651",
   "metadata": {},
   "outputs": [
    {
     "data": {
      "text/plain": [
       "['Proposed Use',\n",
       " 'Neighborhoods - Analysis Boundaries',\n",
       " 'Supervisor District',\n",
       " 'Number of Existing Stories',\n",
       " 'Proposed Construction Type',\n",
       " 'Plansets']"
      ]
     },
     "execution_count": 17,
     "metadata": {},
     "output_type": "execute_result"
    }
   ],
   "source": [
    "categories = [c for c in list(df.columns) if c not in [\"Estimated Cost\", \"Proposed Units\"]]\n",
    "categories"
   ]
  },
  {
   "cell_type": "code",
   "execution_count": 18,
   "id": "3d9d009e-b239-44c4-864e-6f749645ed4d",
   "metadata": {},
   "outputs": [
    {
     "name": "stdout",
     "output_type": "stream",
     "text": [
      "<class 'pandas.core.frame.DataFrame'>\n",
      "RangeIndex: 164689 entries, 0 to 164688\n",
      "Data columns (total 8 columns):\n",
      " #   Column                               Non-Null Count   Dtype   \n",
      "---  ------                               --------------   -----   \n",
      " 0   Proposed Use                         164689 non-null  category\n",
      " 1   Neighborhoods - Analysis Boundaries  164689 non-null  category\n",
      " 2   Estimated Cost                       164689 non-null  float64 \n",
      " 3   Supervisor District                  164689 non-null  category\n",
      " 4   Proposed Units                       164689 non-null  int64   \n",
      " 5   Number of Existing Stories           164689 non-null  category\n",
      " 6   Proposed Construction Type           164689 non-null  category\n",
      " 7   Plansets                             164689 non-null  category\n",
      "dtypes: category(6), float64(1), int64(1)\n",
      "memory usage: 3.5 MB\n"
     ]
    }
   ],
   "source": [
    "df[categories] = df[categories].astype(\"category\")\n",
    "df.info()"
   ]
  },
  {
   "cell_type": "code",
   "execution_count": 19,
   "id": "5fdb093b-8b3f-4b5b-9f5d-87b2aca5df15",
   "metadata": {
    "scrolled": true
   },
   "outputs": [
    {
     "name": "stdout",
     "output_type": "stream",
     "text": [
      "distribution for the 'Proposed Use' feature\n",
      "Proposed Use\n",
      "1 family dwelling       81982\n",
      "apartments              35298\n",
      "2 family dwelling       20187\n",
      "office                  10480\n",
      "retail sales             4159\n",
      "                        ...  \n",
      "roofing materials           1\n",
      "not applicable              1\n",
      "meat/produce marts          1\n",
      "orphanage                   1\n",
      "dairies/dairy equip.        1\n",
      "Name: count, Length: 94, dtype: int64\n",
      "distribution for the 'Neighborhoods - Analysis Boundaries' feature\n",
      "Neighborhoods - Analysis Boundaries\n",
      "Mission                           13251\n",
      "Sunset/Parkside                    9515\n",
      "Financial District/South Beach     8386\n",
      "West of Twin Peaks                 8246\n",
      "Castro/Upper Market                7879\n",
      "Marina                             7614\n",
      "Noe Valley                         7325\n",
      "Pacific Heights                    7258\n",
      "Outer Richmond                     7237\n",
      "South of Market                    6263\n",
      "Bernal Heights                     5607\n",
      "Inner Sunset                       5389\n",
      "Haight Ashbury                     5338\n",
      "Hayes Valley                       5035\n",
      "Bayview Hunters Point              5016\n",
      "Russian Hill                       4859\n",
      "Nob Hill                           4850\n",
      "Inner Richmond                     4109\n",
      "Potrero Hill                       3931\n",
      "Presidio Heights                   3818\n",
      "Tenderloin                         3726\n",
      "North Beach                        3571\n",
      "Lone Mountain/USF                  3072\n",
      "Western Addition                   2949\n",
      "Excelsior                          2878\n",
      "Glen Park                          2467\n",
      "Oceanview/Merced/Ingleside         2451\n",
      "Chinatown                          2315\n",
      "Outer Mission                      2055\n",
      "Mission Bay                        1862\n",
      "Twin Peaks                         1559\n",
      "Portola                            1314\n",
      "Lakeshore                          1214\n",
      "Visitacion Valley                   809\n",
      "Seacliff                            761\n",
      "Japantown                           530\n",
      "Golden Gate Park                     58\n",
      "Lincoln Park                         47\n",
      "Treasure Island                      45\n",
      "McLaren Park                         43\n",
      "Presidio                             37\n",
      "Name: count, dtype: int64\n",
      "distribution for the 'Supervisor District' feature\n",
      "Supervisor District\n",
      "8     24773\n",
      "2     22523\n",
      "3     17958\n",
      "5     16998\n",
      "6     15724\n",
      "9     14893\n",
      "7     13519\n",
      "1     12029\n",
      "10    10924\n",
      "4      8921\n",
      "11     6427\n",
      "Name: count, dtype: int64\n",
      "distribution for the 'Number of Existing Stories' feature\n",
      "Number of Existing Stories\n",
      "2     48677\n",
      "6     42637\n",
      "3     40648\n",
      "4     13534\n",
      "1      7837\n",
      "5      3310\n",
      "7      2144\n",
      "8      1476\n",
      "9      1117\n",
      "10     1046\n",
      "11     1044\n",
      "12      856\n",
      "0       363\n",
      "Name: count, dtype: int64\n",
      "distribution for the 'Proposed Construction Type' feature\n",
      "Proposed Construction Type\n",
      "5    142472\n",
      "1     10658\n",
      "3      8290\n",
      "2      2942\n",
      "4       327\n",
      "Name: count, dtype: int64\n",
      "distribution for the 'Plansets' feature\n",
      "Plansets\n",
      "2       104297\n",
      "0        60143\n",
      "3          243\n",
      "4            3\n",
      "6            2\n",
      "9000         1\n",
      "Name: count, dtype: int64\n"
     ]
    }
   ],
   "source": [
    "for c in categories:\n",
    "    print(f\"distribution for the '{c}' feature\")\n",
    "    print(df[c].value_counts())"
   ]
  },
  {
   "cell_type": "markdown",
   "id": "8e7233f3-b799-48bc-8b38-e8387203769d",
   "metadata": {},
   "source": [
    "## 2.3. Numerical data:"
   ]
  },
  {
   "cell_type": "markdown",
   "id": "5b8ccfb0-6ff7-45a9-8a68-38002a38e43b",
   "metadata": {},
   "source": [
    "### 2.3.1. Numerical data distribution:"
   ]
  },
  {
   "cell_type": "code",
   "execution_count": 22,
   "id": "7e98b5ae-526b-4bbd-8409-d565dfa448c7",
   "metadata": {},
   "outputs": [
    {
     "data": {
      "text/plain": [
       "Text(0, 0.5, 'Frequency')"
      ]
     },
     "execution_count": 22,
     "metadata": {},
     "output_type": "execute_result"
    },
    {
     "data": {
      "image/png": "[encoded data removed]",
      "text/plain": [
       "<Figure size 1800x1200 with 2 Axes>"
      ]
     },
     "metadata": {},
     "output_type": "display_data"
    }
   ],
   "source": [
    "fig, axes = plt.subplots(2, 1, figsize=(18,12))\n",
    "\n",
    "axes[0].hist(df[\"Estimated Cost\"], bins=30)\n",
    "axes[0].set_title(\"Distribution of estimated costs\")\n",
    "axes[0].set_xlabel(\"Estimated cost\")\n",
    "axes[0].set_ylabel(\"Frequency\")\n",
    "\n",
    "axes[1].hist(df[\"Proposed Units\"], bins=30)\n",
    "axes[1].set_title(\"Distribution of proposed units\")\n",
    "axes[1].set_xlabel(\"Proposed\")\n",
    "axes[1].set_ylabel(\"Frequency\")"
   ]
  },
  {
   "cell_type": "markdown",
   "id": "19d30cf7-e33e-439e-b0f7-3ec268c5a5c5",
   "metadata": {},
   "source": [
    "### 2.3.2. Numerical data outliers:"
   ]
  },
  {
   "cell_type": "code",
   "execution_count": 24,
   "id": "b6dfa52c-a634-4964-9855-c4a533e502fb",
   "metadata": {},
   "outputs": [],
   "source": [
    "def detect_outliers_iqr(series):\n",
    "    Q1 = series.quantile(0.25)\n",
    "    Q3 = series.quantile(0.75)\n",
    "    IQR = Q3 - Q1\n",
    "    lower_bound = Q1 - 1.5 * IQR\n",
    "    upper_bound = Q3 + 1.5 * IQR\n",
    "    return series[(series < lower_bound) | (series > upper_bound)]"
   ]
  },
  {
   "cell_type": "code",
   "execution_count": 25,
   "id": "b06ff3ed-7ed2-4354-96b8-412d35477159",
   "metadata": {},
   "outputs": [],
   "source": [
    "outliers_cost = detect_outliers_iqr(df[\"Estimated Cost\"])\n",
    "outliers_units = detect_outliers_iqr(df[\"Proposed Units\"])"
   ]
  },
  {
   "cell_type": "code",
   "execution_count": 26,
   "id": "51c4105b-18e9-4e30-be5c-316254ad576d",
   "metadata": {},
   "outputs": [],
   "source": [
    "outliers_cost_count = outliers_cost.count()\n",
    "outliers_units_count = outliers_units.count()\n",
    "total_obs = df.shape[0]"
   ]
  },
  {
   "cell_type": "code",
   "execution_count": 27,
   "id": "cb711564-749e-4ce5-9c5a-29eac6d42485",
   "metadata": {},
   "outputs": [
    {
     "name": "stdout",
     "output_type": "stream",
     "text": [
      "At worse case scenario, all outliers represent 18.35% of the total observations.\n"
     ]
    }
   ],
   "source": [
    "total_outliers = ((outliers_cost_count + outliers_units_count) / total_obs ) * 100\n",
    "print(f\"At worse case scenario, all outliers represent {total_outliers:.2f}% of the total observations.\")"
   ]
  },
  {
   "cell_type": "markdown",
   "id": "98a70601-8e7a-4968-9725-3d549a4fae89",
   "metadata": {},
   "source": [
    "The outliers represent a too much siginificative amount of the total observations to be dropped.  \n",
    "Instead, we decide to log the concerned features.  \n",
    "Outliers will be compressed and the skewness will be reduced.  "
   ]
  },
  {
   "cell_type": "markdown",
   "id": "b671b93f-2cec-418b-81e4-5f4e032e80b1",
   "metadata": {},
   "source": [
    "### 2.3.3. Log outliers:"
   ]
  },
  {
   "cell_type": "code",
   "execution_count": 30,
   "id": "3240eb7e-b78a-42af-b427-4a20a38fa101",
   "metadata": {},
   "outputs": [],
   "source": [
    "df[\"Estimated Cost\"] = np.log1p(df[\"Estimated Cost\"])\n",
    "df[\"Proposed Units\"] = np.log1p(df[\"Proposed Units\"])"
   ]
  },
  {
   "cell_type": "code",
   "execution_count": 31,
   "id": "57063f55-9a66-4528-9c45-5b3ccacc4d0e",
   "metadata": {},
   "outputs": [
    {
     "data": {
      "text/plain": [
       "<function matplotlib.pyplot.show(close=None, block=None)>"
      ]
     },
     "execution_count": 31,
     "metadata": {},
     "output_type": "execute_result"
    },
    {
     "data": {
      "image/png": "[encoded data removed]",
      "text/plain": [
       "<Figure size 1800x1200 with 2 Axes>"
      ]
     },
     "metadata": {},
     "output_type": "display_data"
    }
   ],
   "source": [
    "plt.figure(figsize=(18,12))\n",
    "\n",
    "plt.subplot(2,1,1,)\n",
    "plt.hist(df[\"Estimated Cost\"], bins=30)\n",
    "plt.title(\"Log-transformed Estimated Cost\")\n",
    "\n",
    "plt.subplot(2,1,2)\n",
    "plt.hist(df[\"Proposed Units\"], bins=30)\n",
    "plt.title(\"Log-transformed Proposed Units\")\n",
    "\n",
    "plt.tight_layout()\n",
    "plt.show"
   ]
  },
  {
   "cell_type": "code",
   "execution_count": 32,
   "id": "cfd0b8b7-bdba-4e2b-ab46-b47d4bf274fb",
   "metadata": {},
   "outputs": [
    {
     "data": {
      "text/html": [
       "<div>\n",
       "<style scoped>\n",
       "    .dataframe tbody tr th:only-of-type {\n",
       "        vertical-align: middle;\n",
       "    }\n",
       "\n",
       "    .dataframe tbody tr th {\n",
       "        vertical-align: top;\n",
       "    }\n",
       "\n",
       "    .dataframe thead th {\n",
       "        text-align: right;\n",
       "    }\n",
       "</style>\n",
       "<table border=\"1\" class=\"dataframe\">\n",
       "  <thead>\n",
       "    <tr style=\"text-align: right;\">\n",
       "      <th></th>\n",
       "      <th>Estimated Cost</th>\n",
       "      <th>Proposed Units</th>\n",
       "    </tr>\n",
       "  </thead>\n",
       "  <tbody>\n",
       "    <tr>\n",
       "      <th>0</th>\n",
       "      <td>8.294300</td>\n",
       "      <td>2.833213</td>\n",
       "    </tr>\n",
       "    <tr>\n",
       "      <th>1</th>\n",
       "      <td>0.693147</td>\n",
       "      <td>2.833213</td>\n",
       "    </tr>\n",
       "    <tr>\n",
       "      <th>2</th>\n",
       "      <td>7.601402</td>\n",
       "      <td>0.693147</td>\n",
       "    </tr>\n",
       "    <tr>\n",
       "      <th>3</th>\n",
       "      <td>11.512935</td>\n",
       "      <td>2.833213</td>\n",
       "    </tr>\n",
       "    <tr>\n",
       "      <th>4</th>\n",
       "      <td>8.294300</td>\n",
       "      <td>5.789960</td>\n",
       "    </tr>\n",
       "  </tbody>\n",
       "</table>\n",
       "</div>"
      ],
      "text/plain": [
       "   Estimated Cost  Proposed Units\n",
       "0        8.294300        2.833213\n",
       "1        0.693147        2.833213\n",
       "2        7.601402        0.693147\n",
       "3       11.512935        2.833213\n",
       "4        8.294300        5.789960"
      ]
     },
     "execution_count": 32,
     "metadata": {},
     "output_type": "execute_result"
    }
   ],
   "source": [
    "df[[\"Estimated Cost\", \"Proposed Units\"]].head()"
   ]
  },
  {
   "cell_type": "code",
   "execution_count": 33,
   "id": "e72bbf0a-8378-4fc2-ae50-3f3a95676862",
   "metadata": {},
   "outputs": [],
   "source": [
    "# df_file_path = r\"..\\data\\raw\\df_predictors03.csv\"\n",
    "# df.to_csv(df_file_path, index=False)"
   ]
  },
  {
   "cell_type": "markdown",
   "id": "35cf3649-ea07-4606-87c2-67d554e119fa",
   "metadata": {},
   "source": [
    "# 3. Target data check:"
   ]
  },
  {
   "cell_type": "markdown",
   "id": "810dee06-f7a7-4e84-a88f-4fde2103a9ca",
   "metadata": {},
   "source": [
    "## 3.1. Target data distribution:"
   ]
  },
  {
   "cell_type": "code",
   "execution_count": 36,
   "id": "11a86f09-5c8b-4d9c-bcec-3707743e8af4",
   "metadata": {},
   "outputs": [
    {
     "data": {
      "image/png": "[encoded data removed]",
      "text/plain": [
       "<Figure size 1800x1200 with 1 Axes>"
      ]
     },
     "metadata": {},
     "output_type": "display_data"
    }
   ],
   "source": [
    "permit_type_count = len(list(target[\"Permit Type\"].unique()))\n",
    "permit_type_count\n",
    "\n",
    "plt.figure(figsize=(18,12))\n",
    "plt.hist(target[\"Permit Type\"], bins=permit_type_count)\n",
    "\n",
    "plt.savefig(r\"..\\reports\\datapreprocessing_target_imbalance.png\", dpi=300, bbox_inches='tight')\n",
    "\n",
    "plt.show()"
   ]
  },
  {
   "cell_type": "markdown",
   "id": "52fc51e8-8f3e-49cf-889b-9c0fd987b550",
   "metadata": {},
   "source": [
    "**The distribution of the dependent variable shows a clear imbalance between the 8 categories (classes) of Permit Type.**"
   ]
  },
  {
   "cell_type": "markdown",
   "id": "9bb3b3cc-c5d6-407a-89f4-b756156ba7e3",
   "metadata": {},
   "source": [
    "## 3.2. Class imbalance management:"
   ]
  },
  {
   "cell_type": "markdown",
   "id": "35be8fce-4446-4dfd-aa10-00abd326bdf8",
   "metadata": {},
   "source": [
    "To handle the **class imbalance** in the target variable while ensuring that our model evaluation remains valid:\r\n",
    "\r\n",
    "- **First**, we perform a **train/test split**, using the `stratify=y` argument to maintain class proportions in both sets.\r\n",
    "- **Second**, we apply **SMOTE** (*Synthetic Minority Over-sampling Technique*) **only to the training set**.  \r\n",
    "  This prevents any information from the test set from influencing the oversampling process, which would otherwise introduce **data leakage**.\r\n",
    "- The **test set is left untouched**, preserving the original class imbalance so thet our model is evaluated under **real-world conditions**."
   ]
  },
  {
   "cell_type": "markdown",
   "id": "a4d02420-603f-4588-9429-5b59b840462c",
   "metadata": {},
   "source": [
    "# 4. Categorical data handling:"
   ]
  },
  {
   "cell_type": "markdown",
   "id": "2178ce11-a518-4039-bfd0-7f008637fa56",
   "metadata": {},
   "source": [
    "- **Regression models** (e.g., linear or logistic regression) are **favored by one-hot encoding**, such as using `pd.get_dummies()`.  \n",
    "  This avoids introducing any false ordinal relationships between categories.\n",
    "\n",
    "- **Tree-based models** (e.g., Decision Trees, Random Forests, XGBoost, LightGBM):\n",
    "  - Can **natively handle categorical features** in some implementations (e.g., LightGBM, CatBoost).\n",
    "  - Or they can benefit from **integer encoding** (e.g., label encoding), especially when categories are not too numerous.\n",
    "  - For **high-cardinality features**, **hash encoding** or **target encoding** may also be beneficial."
   ]
  },
  {
   "cell_type": "markdown",
   "id": "6cd2346f-04ee-46a3-b07c-e3b6b1d808b0",
   "metadata": {},
   "source": [
    "## 4.1. Regression models:"
   ]
  },
  {
   "cell_type": "code",
   "execution_count": 43,
   "id": "36b8ee89-0728-428a-a2ab-11ba5933b38a",
   "metadata": {},
   "outputs": [
    {
     "data": {
      "text/plain": [
       "['Proposed Use',\n",
       " 'Neighborhoods - Analysis Boundaries',\n",
       " 'Supervisor District',\n",
       " 'Number of Existing Stories',\n",
       " 'Proposed Construction Type',\n",
       " 'Plansets']"
      ]
     },
     "execution_count": 43,
     "metadata": {},
     "output_type": "execute_result"
    }
   ],
   "source": [
    "categories"
   ]
  },
  {
   "cell_type": "markdown",
   "id": "61fd1e34-5442-48ad-b2be-a09e2661b272",
   "metadata": {
    "scrolled": true
   },
   "source": [
    "**To avoid data leakage**, the best workflow is to:  \n",
    "    - FIRST: split the data.  \n",
    "    - SECOND: apply one-hot encoding on X_train and separately on X_test.  \n",
    "    - TRHEE: sue `DataFRame.align()` to match their columns.  "
   ]
  },
  {
   "cell_type": "markdown",
   "id": "52ee5237-7d08-4b21-b796-4f53031276ca",
   "metadata": {},
   "source": [
    "## 4.2. Tree models:"
   ]
  },
  {
   "cell_type": "code",
   "execution_count": 46,
   "id": "0d25a0be-86a5-4f11-b611-30809573df23",
   "metadata": {},
   "outputs": [
    {
     "data": {
      "text/plain": [
       "Proposed Use                           94\n",
       "Neighborhoods - Analysis Boundaries    41\n",
       "Supervisor District                    11\n",
       "Number of Existing Stories             13\n",
       "Proposed Construction Type              5\n",
       "Plansets                                6\n",
       "dtype: int64"
      ]
     },
     "execution_count": 46,
     "metadata": {},
     "output_type": "execute_result"
    }
   ],
   "source": [
    "df[categories].nunique()"
   ]
  },
  {
   "cell_type": "markdown",
   "id": "b21e8b22-7de6-4d0f-8d6e-bc25c5087b35",
   "metadata": {},
   "source": [
    "The features: \"Proposed Use\" and \"Neighborhoods - Analysis Boundaries\" show a high cardinality.  \n",
    "This may justify the use of **target encoding**.  \n",
    "However, to **avoid data leakage**, target encoding must only be applied on the training set.  "
   ]
  },
  {
   "cell_type": "markdown",
   "id": "e707f9ba-ce75-4f0c-a548-6de7c72886c0",
   "metadata": {},
   "source": [
    "# 5. Workflow explanation:"
   ]
  },
  {
   "cell_type": "markdown",
   "id": "fbcd7c70-d3bf-48fd-a1d7-beb58141e9bb",
   "metadata": {},
   "source": [
    "The main concern is to avoid **data leakage**.  \n",
    "Avoiding data leakage is crucial because data leakage leads to overly optimistic model performance during training, which fails completely when the model is deployed in the real world.  "
   ]
  },
  {
   "cell_type": "markdown",
   "id": "ff2e15f6-7869-474a-b82c-91654bf75f89",
   "metadata": {},
   "source": [
    "With that concern in mind and for a workflow summary:  \n",
    "    - FIRST: we split the data.  \n",
    "    - SECOND: we apply SMOTE on the training set, only on the training data.  \n",
    "    - THREE: **for tree-based models**, we use Target Encoding on the categorical features, fitting only on the resampled data.    \n",
    "    - FOUR: **for regression-based models**, we use one-hot encoding and align.  \n",
    "    - FIVE: we scale only the regression-based dataset.  "
   ]
  },
  {
   "cell_type": "markdown",
   "id": "a741998d-d063-45c6-8190-70163966a2f4",
   "metadata": {},
   "source": [
    "# 6. Data split:"
   ]
  },
  {
   "cell_type": "code",
   "execution_count": 52,
   "id": "cd2c451f-d8e6-4d6f-8871-a04155c4a2fe",
   "metadata": {},
   "outputs": [],
   "source": [
    "X=df\n",
    "y=target[\"Permit Type\"]"
   ]
  },
  {
   "cell_type": "code",
   "execution_count": 53,
   "id": "f5822918-a3e7-4c5e-8cae-60f91567c4a8",
   "metadata": {},
   "outputs": [
    {
     "data": {
      "text/plain": [
       "True"
      ]
     },
     "execution_count": 53,
     "metadata": {},
     "output_type": "execute_result"
    }
   ],
   "source": [
    "len(X) == len(y)"
   ]
  },
  {
   "cell_type": "code",
   "execution_count": 54,
   "id": "70504c22-575a-4d2f-a21e-7afbdc52944c",
   "metadata": {},
   "outputs": [
    {
     "data": {
      "text/plain": [
       "True"
      ]
     },
     "execution_count": 54,
     "metadata": {},
     "output_type": "execute_result"
    }
   ],
   "source": [
    "X.index.equals(y.index)"
   ]
  },
  {
   "cell_type": "code",
   "execution_count": 55,
   "id": "abf3e8b8-f378-4a66-9bf6-2e71905052c7",
   "metadata": {},
   "outputs": [],
   "source": [
    "X_train, X_test, y_train, y_test = train_test_split(\n",
    "    X, y, test_size=0.2, stratify=y, random_state=42\n",
    ")"
   ]
  },
  {
   "cell_type": "markdown",
   "id": "5893394d-7416-4520-bf46-a92288d41727",
   "metadata": {},
   "source": [
    "# 7. Target class imbalance:"
   ]
  },
  {
   "cell_type": "markdown",
   "id": "15d32e64-c2aa-4d22-8cf0-a6ce8a0ee230",
   "metadata": {},
   "source": [
    "We encountered compatibility issues when attempting to install the `imblearn` package required for **SMOTE** (Synthetic Minority Oversampling Technique).\r\n",
    "\r\n",
    "Therefore, as a reliable and cleaner alternative:\r\n",
    "\r\n",
    "- We **first** handle class imbalance during data splitting by using the `stratify=y` argument in `train_test_split` to preserve class proportions.\r\n",
    "- We **then** rely on the `class_weight` argument of the ML models to account for class imbalance during training.\r\n",
    "\r\n",
    "This avoids the risk of **data leakage**, ensures **compatibility** with our current environment, and simplifies the overall pipeline. \n",
    "                                                               "
   ]
  },
  {
   "cell_type": "markdown",
   "id": "9e3acd72-6dbb-4b15-b743-d6402860e844",
   "metadata": {},
   "source": [
    "# 8. Tree-based models and target encoding:"
   ]
  },
  {
   "cell_type": "code",
   "execution_count": 59,
   "id": "74b88a7b-260a-46fb-ab69-b294475c1d65",
   "metadata": {},
   "outputs": [],
   "source": [
    "tree_encoder = TargetEncoder(cols=categories)\n",
    "X_train_tree = tree_encoder.fit_transform(X_train, y_train)\n",
    "X_test_tree = tree_encoder.transform(X_test)"
   ]
  },
  {
   "cell_type": "markdown",
   "id": "5e2c4e6e-4f74-4959-b695-2f823fd576ba",
   "metadata": {},
   "source": [
    "# 9. Regression-based models, one-hot encoding and align:"
   ]
  },
  {
   "cell_type": "code",
   "execution_count": 61,
   "id": "a51f837f-dc51-454e-86de-2c3035c9bf3a",
   "metadata": {},
   "outputs": [],
   "source": [
    "X_train_reg = pd.get_dummies(X_train, drop_first=True)\n",
    "X_test_reg = pd.get_dummies(X_test, drop_first=True)"
   ]
  },
  {
   "cell_type": "code",
   "execution_count": 62,
   "id": "8192d1a3-3370-486d-89a7-38518351cc63",
   "metadata": {},
   "outputs": [],
   "source": [
    "X_train_reg, X_test_reg = X_train_reg.align(X_test_reg, join='left', axis=1, fill_value=0)"
   ]
  },
  {
   "cell_type": "markdown",
   "id": "7b6abe48-5444-41a5-94fc-694230d1ad50",
   "metadata": {},
   "source": [
    "# 10. Data scaling:"
   ]
  },
  {
   "cell_type": "code",
   "execution_count": 64,
   "id": "e246cf76-8859-4cfe-943f-572f419f8498",
   "metadata": {},
   "outputs": [],
   "source": [
    "scaler = StandardScaler()\n",
    "X_train_reg_scaled = scaler.fit_transform(X_train_reg)\n",
    "X_test_reg_scaled = scaler.transform(X_test_reg)"
   ]
  },
  {
   "cell_type": "markdown",
   "id": "bb76f305-5175-4cbe-b337-e1cd82665be4",
   "metadata": {},
   "source": [
    "# 11. Finaloutputs:"
   ]
  },
  {
   "cell_type": "code",
   "execution_count": 66,
   "id": "9a0c4be7-2c23-49d6-8616-dac7356fcd5e",
   "metadata": {},
   "outputs": [],
   "source": [
    "# For tree-based models (target encoded)\n",
    "X_train_tree_final = X_train_tree\n",
    "X_test_tree_final = X_test_tree\n",
    "y_train_tree_final = y_train\n",
    "y_test_tree_final = y_test\n",
    "\n",
    "# For regression-based models (one-hot + scaled)\n",
    "X_train_reg_final = X_train_reg_scaled\n",
    "X_test_reg_final = X_test_reg_scaled\n",
    "y_train_reg_final = y_train\n",
    "y_test_reg_final = y_test"
   ]
  },
  {
   "cell_type": "markdown",
   "id": "1c7d4971-d278-474c-bfba-6efe59ff4a83",
   "metadata": {},
   "source": [
    "# 12. Datasets save:"
   ]
  },
  {
   "cell_type": "code",
   "execution_count": 68,
   "id": "1c55bb5c-fb17-4209-8d21-2f0c42eec8f9",
   "metadata": {},
   "outputs": [],
   "source": [
    "base_path = r\"..\\data\\processed\"\n",
    "zip_path = os.path.join(base_path, \"preprocessed_datasets.zip\")\n",
    "\n",
    "# Dictionary of filenames and DataFrames/Series\n",
    "datasets = {\n",
    "    \"X_train_tree_final.csv\": X_train_tree_final,\n",
    "    \"X_test_tree_final.csv\": X_test_tree_final,\n",
    "    \"y_train_tree_final.csv\": y_train_tree_final,\n",
    "    \"y_test_tree_final.csv\": y_test_tree_final,\n",
    "    \"X_train_reg_final.csv\": pd.DataFrame(X_train_reg_final),\n",
    "    \"X_test_reg_final.csv\": pd.DataFrame(X_test_reg_final),\n",
    "    \"y_train_reg_final.csv\": pd.Series(y_train_reg_final),\n",
    "    \"y_test_reg_final.csv\": pd.Series(y_test_reg_final)\n",
    "}\n",
    "\n",
    "# Create ZIP directly without saving individual files\n",
    "with zipfile.ZipFile(zip_path, 'w', compression=zipfile.ZIP_DEFLATED) as zipf:\n",
    "    for filename, df in datasets.items():\n",
    "        with io.StringIO() as buffer:\n",
    "            df.to_csv(buffer, index=False)\n",
    "            zipf.writestr(filename, buffer.getvalue())"
   ]
  }
 ],
 "metadata": {
  "kernelspec": {
   "display_name": "Python 3 (ipykernel)",
   "language": "python",
   "name": "python3"
  },
  "language_info": {
   "codemirror_mode": {
    "name": "ipython",
    "version": 3
   },
   "file_extension": ".py",
   "mimetype": "text/x-python",
   "name": "python",
   "nbconvert_exporter": "python",
   "pygments_lexer": "ipython3",
   "version": "3.11.7"
  }
 },
 "nbformat": 4,
 "nbformat_minor": 5
}
