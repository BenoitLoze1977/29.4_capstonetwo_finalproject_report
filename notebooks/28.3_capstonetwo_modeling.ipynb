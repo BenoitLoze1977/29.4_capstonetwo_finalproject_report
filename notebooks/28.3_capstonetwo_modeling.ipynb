{
 "cells": [
  {
   "cell_type": "code",
   "execution_count": 2,
   "id": "bcb47b35-39ae-4e66-8a11-33babddd2975",
   "metadata": {},
   "outputs": [
    {
     "data": {
      "text/html": [
       "\n",
       "        <iframe\n",
       "            width=\"800\"\n",
       "            height=\"600\"\n",
       "            src=\"..\\references\\05_modelling\\1687276546_Capstone_Two_Step_5__Modeling.pdf\"\n",
       "            frameborder=\"0\"\n",
       "            allowfullscreen\n",
       "            \n",
       "        ></iframe>\n",
       "        "
      ],
      "text/plain": [
       "<IPython.lib.display.IFrame at 0x258f4faa890>"
      ]
     },
     "execution_count": 2,
     "metadata": {},
     "output_type": "execute_result"
    }
   ],
   "source": [
    "from IPython.display import IFrame\n",
    "IFrame(r\"..\\references\\05_modelling\\1687276546_Capstone_Two_Step_5__Modeling.pdf\", width=800, height=600)"
   ]
  },
  {
   "cell_type": "markdown",
   "id": "67e69b20-b210-40fb-b3db-3e01bcc2420c",
   "metadata": {},
   "source": [
    "# 0. Table of Content:"
   ]
  },
  {
   "cell_type": "markdown",
   "id": "a263117a-04ff-4d43-9cb9-083026570658",
   "metadata": {},
   "source": [
    "[1. Import & functions:](#1.-Import-&-functions:)  \n",
    "[2. Regression-based model:](#2.-Regression-based-model:)  \n",
    "- [2.1. Data load:](#2.1.-Data-load:)  \n",
    "- [2.2. Hyperparameter tuning:](#2.2.-Hyperparameter-tuning:)  \n",
    "- [2.3. Performance metrics:](#2.3.-Performance-metrics:)\n",
    "\n",
    "      \n",
    "[3. Tree-based model:](#3.-Tree-based-model:)  \n",
    "- [3.1. Data load:](#3.1.-Data-load:)  \n",
    "- [3.2. Hyperparameter tuning:](#3.2.-Hyperparameter-tuning:)  \n",
    "- [3.3. Performance metrics:](#3.3.-Performance-metrics:)   \n",
    "\n",
    "[4. Model selection:](#4.-Model-selection:)  "
   ]
  },
  {
   "cell_type": "markdown",
   "id": "47f02948-907e-45c1-a62a-583697772571",
   "metadata": {},
   "source": [
    "# 1. Import & functions:"
   ]
  },
  {
   "cell_type": "code",
   "execution_count": 6,
   "id": "1c811b6a-c97f-4c55-8389-0f2e795cc15b",
   "metadata": {},
   "outputs": [],
   "source": [
    "# !pip install scikit-optimize\n",
    "\n",
    "import os\n",
    "import numpy as np\n",
    "import pandas as pd\n",
    "\n",
    "from sklearn.linear_model import LogisticRegression\n",
    "from sklearn.ensemble import RandomForestClassifier\n",
    "from sklearn.model_selection import cross_val_score, RandomizedSearchCV\n",
    "from sklearn.metrics import f1_score, precision_score, recall_score, classification_report, confusion_matrix, ConfusionMatrixDisplay\n",
    "from sklearn.pipeline import Pipeline\n",
    "\n",
    "from skopt import BayesSearchCV\n",
    "import matplotlib.pyplot as plt\n",
    "from bayes_opt import BayesianOptimization\n",
    "\n",
    "import warnings\n",
    "warnings.filterwarnings(\"ignore\")"
   ]
  },
  {
   "cell_type": "code",
   "execution_count": 53,
   "id": "90244538-ceba-4ea9-a51c-7259d3a8350b",
   "metadata": {},
   "outputs": [],
   "source": [
    "def model_performance_metrics(model, research_method, y_test, y_pred, output_dir=r\"..\\reports\\model_metrics_files\"):\n",
    "    \"\"\"\n",
    "    Compute, print and return the F1, Precision, Recall scores.\n",
    "    Display the classification report and the confusion matrix.\n",
    "    Save all outputs to as .txt and .png files for documentation.\n",
    "    \"\"\"\n",
    "\n",
    "    # compute metrics:\n",
    "    f1_score_model = f1_score(y_test, y_pred, average=\"macro\")\n",
    "    precision_model = precision_score(y_test, y_pred, average=\"macro\")\n",
    "    recall_model = recall_score(y_test, y_pred, average=\"macro\")\n",
    "    classification_report_model = classification_report(y_test, y_pred)\n",
    "    cm_model = confusion_matrix(y_test, y_pred)\n",
    "\n",
    "    # print metrics:\n",
    "    print(f\"{model}, {research_method}, F1 score: {f1_score_model}.\")\n",
    "    print(f\"{model}, {research_method}, Precision score: {precision_model}.\")\n",
    "    print(f\"{model}, {research_method}, Recall score: {recall_model}.\")\n",
    "    print(f\"\\n{model}, {research_method}, Classification Report:\\n {classification_report_model}.\")\n",
    "    print()\n",
    "\n",
    "    #display confusion matrix:\n",
    "    cm_model_display = ConfusionMatrixDisplay(confusion_matrix=cm_model)\n",
    "    cm_model_display.plot(cmap=\"Blues\")\n",
    "    plt.title(f\"{model} - {research_method}, Confusion Matrix\")\n",
    "    plt.tight_layout()\n",
    "\n",
    "    output_dir = os.path.abspath(output_dir)\n",
    "    os.makedirs(output_dir, exist_ok=True)\n",
    "    \n",
    "    cm_filename = f\"confusion_matrix_{model}_{research_method}.png\".replace(\" \", \"_\").lower()\n",
    "    cm_path = os.path.join(output_dir, cm_filename)\n",
    "    plt.savefig(cm_path, dpi=300, bbox_inches=\"tight\")\n",
    "    plt.show()\n",
    "\n",
    "    txt_filename = f\"model_metrics_file_{model}_{research_method}.txt\".replace(\" \", \"_\").lower()\n",
    "    txt_path = os.path.join(output_dir, txt_filename)\n",
    "    \n",
    "    with open(txt_path, \"w\") as f:\n",
    "        f.write(f\"Model: {model}\\n\")\n",
    "        f.write(f\"Research Method: {research_method}\\n\")\n",
    "        f.write(f\"F1 Score (macro): {f1_score_model:.4f}\\n\")\n",
    "        f.write(f\"Precision Score (macro): {precision_model:.4f}\\n\")\n",
    "        f.write(f\"Recall Score (macro): {recall_model:.4f}\\n\\n\")\n",
    "        f.write(\"Classification Report:\\n\")\n",
    "        f.write(classification_report_model + \"\\n\\n\")\n",
    "        f.write(\"Confusion Matrix:\\n\")\n",
    "        for row in cm_model:\n",
    "            f.write(\"  \" + \"  \".join(str(x) for x in row) + \"\\n\")\n",
    "\n",
    "    print(f\"Text metrics saved to: {txt_path}\")\n",
    "    print(f\"Confusion matrix saved to: {cm_path}\")\n",
    "\n",
    "    # returns metrics for logging or comparison:\n",
    "    return {\n",
    "        \"f1\":f1_score_model, \n",
    "        \"precision\":precision_model, \n",
    "        \"recall\":recall_model\n",
    "    }"
   ]
  },
  {
   "cell_type": "markdown",
   "id": "56213e3d-ca01-43f5-bb6f-390079bc3c1a",
   "metadata": {},
   "source": [
    "# 2. Regression-based model:"
   ]
  },
  {
   "cell_type": "markdown",
   "id": "84f4baf5-7af7-4827-95b0-d6417521d225",
   "metadata": {},
   "source": [
    "## IMPORTANT NOTE BEFORE DATA LOADING:\n",
    "Before loading please make sure to unzip the following two folders inside the \"data\\raw\" folder and keep them at the same location to support the file paths below:  \n",
    "\n",
    "- \"_regressions_based.zip\"\n",
    "- \"_tree_based.zip\"\n"
   ]
  },
  {
   "cell_type": "markdown",
   "id": "3a080bb5-5d38-4832-9f17-f269f662d661",
   "metadata": {},
   "source": [
    "## 2.1. Data load:"
   ]
  },
  {
   "cell_type": "code",
   "execution_count": 11,
   "id": "b32b5d04-1f2c-4278-ac12-7f136cbab2a6",
   "metadata": {},
   "outputs": [],
   "source": [
    "X_train_reg_path = r\"..\\data\\raw\\_regressions_based\\X_train_reg_final.csv\""
   ]
  },
  {
   "cell_type": "code",
   "execution_count": 12,
   "id": "11968250-ef11-4c90-af99-85929034dc88",
   "metadata": {},
   "outputs": [],
   "source": [
    "X_test_reg_path = r\"..\\data\\raw\\_regressions_based\\X_test_reg_final.csv\""
   ]
  },
  {
   "cell_type": "code",
   "execution_count": 13,
   "id": "d8674c7c-a4f1-4bd0-b555-d92922828767",
   "metadata": {},
   "outputs": [],
   "source": [
    "y_train_reg_path = r\"..\\data\\raw\\_regressions_based\\y_train_reg_final.csv\""
   ]
  },
  {
   "cell_type": "code",
   "execution_count": 14,
   "id": "9ac175e0-5f34-4497-9722-e2698048886c",
   "metadata": {},
   "outputs": [],
   "source": [
    "y_test_reg_path = r\"..\\data\\raw\\_regressions_based\\y_test_reg_final.csv\""
   ]
  },
  {
   "cell_type": "code",
   "execution_count": 15,
   "id": "0fd03bf2-2683-46b7-86c1-c0476f126b0d",
   "metadata": {},
   "outputs": [],
   "source": [
    "X_train_reg = pd.read_csv(X_train_reg_path)"
   ]
  },
  {
   "cell_type": "code",
   "execution_count": 16,
   "id": "10cca99d-6961-4859-89e8-bf5b388c00ab",
   "metadata": {},
   "outputs": [
    {
     "data": {
      "text/html": [
       "<div>\n",
       "<style scoped>\n",
       "    .dataframe tbody tr th:only-of-type {\n",
       "        vertical-align: middle;\n",
       "    }\n",
       "\n",
       "    .dataframe tbody tr th {\n",
       "        vertical-align: top;\n",
       "    }\n",
       "\n",
       "    .dataframe thead th {\n",
       "        text-align: right;\n",
       "    }\n",
       "</style>\n",
       "<table border=\"1\" class=\"dataframe\">\n",
       "  <thead>\n",
       "    <tr style=\"text-align: right;\">\n",
       "      <th></th>\n",
       "      <th>0</th>\n",
       "      <th>1</th>\n",
       "      <th>2</th>\n",
       "      <th>3</th>\n",
       "      <th>4</th>\n",
       "      <th>5</th>\n",
       "      <th>6</th>\n",
       "      <th>7</th>\n",
       "      <th>8</th>\n",
       "      <th>9</th>\n",
       "      <th>...</th>\n",
       "      <th>156</th>\n",
       "      <th>157</th>\n",
       "      <th>158</th>\n",
       "      <th>159</th>\n",
       "      <th>160</th>\n",
       "      <th>161</th>\n",
       "      <th>162</th>\n",
       "      <th>163</th>\n",
       "      <th>164</th>\n",
       "      <th>165</th>\n",
       "    </tr>\n",
       "  </thead>\n",
       "  <tbody>\n",
       "    <tr>\n",
       "      <th>0</th>\n",
       "      <td>0.328376</td>\n",
       "      <td>-1.449330</td>\n",
       "      <td>-0.373955</td>\n",
       "      <td>-0.006161</td>\n",
       "      <td>-0.002755</td>\n",
       "      <td>-0.003896</td>\n",
       "      <td>-0.007289</td>\n",
       "      <td>-0.017857</td>\n",
       "      <td>-0.021345</td>\n",
       "      <td>-0.522276</td>\n",
       "      <td>...</td>\n",
       "      <td>-0.072081</td>\n",
       "      <td>-0.13482</td>\n",
       "      <td>4.355264</td>\n",
       "      <td>-0.04656</td>\n",
       "      <td>-2.534778</td>\n",
       "      <td>0.761972</td>\n",
       "      <td>-0.038302</td>\n",
       "      <td>-0.003896</td>\n",
       "      <td>-0.003896</td>\n",
       "      <td>-0.002755</td>\n",
       "    </tr>\n",
       "    <tr>\n",
       "      <th>1</th>\n",
       "      <td>-0.245412</td>\n",
       "      <td>-0.854974</td>\n",
       "      <td>-0.373955</td>\n",
       "      <td>-0.006161</td>\n",
       "      <td>-0.002755</td>\n",
       "      <td>-0.003896</td>\n",
       "      <td>-0.007289</td>\n",
       "      <td>-0.017857</td>\n",
       "      <td>-0.021345</td>\n",
       "      <td>-0.522276</td>\n",
       "      <td>...</td>\n",
       "      <td>-0.072081</td>\n",
       "      <td>-0.13482</td>\n",
       "      <td>-0.229607</td>\n",
       "      <td>-0.04656</td>\n",
       "      <td>0.394512</td>\n",
       "      <td>0.761972</td>\n",
       "      <td>-0.038302</td>\n",
       "      <td>-0.003896</td>\n",
       "      <td>-0.003896</td>\n",
       "      <td>-0.002755</td>\n",
       "    </tr>\n",
       "    <tr>\n",
       "      <th>2</th>\n",
       "      <td>1.004818</td>\n",
       "      <td>-0.069279</td>\n",
       "      <td>-0.373955</td>\n",
       "      <td>-0.006161</td>\n",
       "      <td>-0.002755</td>\n",
       "      <td>-0.003896</td>\n",
       "      <td>-0.007289</td>\n",
       "      <td>-0.017857</td>\n",
       "      <td>-0.021345</td>\n",
       "      <td>1.914697</td>\n",
       "      <td>...</td>\n",
       "      <td>-0.072081</td>\n",
       "      <td>-0.13482</td>\n",
       "      <td>-0.229607</td>\n",
       "      <td>-0.04656</td>\n",
       "      <td>0.394512</td>\n",
       "      <td>0.761972</td>\n",
       "      <td>-0.038302</td>\n",
       "      <td>-0.003896</td>\n",
       "      <td>-0.003896</td>\n",
       "      <td>-0.002755</td>\n",
       "    </tr>\n",
       "    <tr>\n",
       "      <th>3</th>\n",
       "      <td>-0.245412</td>\n",
       "      <td>-0.507299</td>\n",
       "      <td>2.674115</td>\n",
       "      <td>-0.006161</td>\n",
       "      <td>-0.002755</td>\n",
       "      <td>-0.003896</td>\n",
       "      <td>-0.007289</td>\n",
       "      <td>-0.017857</td>\n",
       "      <td>-0.021345</td>\n",
       "      <td>-0.522276</td>\n",
       "      <td>...</td>\n",
       "      <td>-0.072081</td>\n",
       "      <td>-0.13482</td>\n",
       "      <td>-0.229607</td>\n",
       "      <td>-0.04656</td>\n",
       "      <td>0.394512</td>\n",
       "      <td>0.761972</td>\n",
       "      <td>-0.038302</td>\n",
       "      <td>-0.003896</td>\n",
       "      <td>-0.003896</td>\n",
       "      <td>-0.002755</td>\n",
       "    </tr>\n",
       "    <tr>\n",
       "      <th>4</th>\n",
       "      <td>-2.853229</td>\n",
       "      <td>-0.507299</td>\n",
       "      <td>2.674115</td>\n",
       "      <td>-0.006161</td>\n",
       "      <td>-0.002755</td>\n",
       "      <td>-0.003896</td>\n",
       "      <td>-0.007289</td>\n",
       "      <td>-0.017857</td>\n",
       "      <td>-0.021345</td>\n",
       "      <td>-0.522276</td>\n",
       "      <td>...</td>\n",
       "      <td>-0.072081</td>\n",
       "      <td>-0.13482</td>\n",
       "      <td>-0.229607</td>\n",
       "      <td>-0.04656</td>\n",
       "      <td>0.394512</td>\n",
       "      <td>-1.312385</td>\n",
       "      <td>-0.038302</td>\n",
       "      <td>-0.003896</td>\n",
       "      <td>-0.003896</td>\n",
       "      <td>-0.002755</td>\n",
       "    </tr>\n",
       "  </tbody>\n",
       "</table>\n",
       "<p>5 rows × 166 columns</p>\n",
       "</div>"
      ],
      "text/plain": [
       "          0         1         2         3         4         5         6  \\\n",
       "0  0.328376 -1.449330 -0.373955 -0.006161 -0.002755 -0.003896 -0.007289   \n",
       "1 -0.245412 -0.854974 -0.373955 -0.006161 -0.002755 -0.003896 -0.007289   \n",
       "2  1.004818 -0.069279 -0.373955 -0.006161 -0.002755 -0.003896 -0.007289   \n",
       "3 -0.245412 -0.507299  2.674115 -0.006161 -0.002755 -0.003896 -0.007289   \n",
       "4 -2.853229 -0.507299  2.674115 -0.006161 -0.002755 -0.003896 -0.007289   \n",
       "\n",
       "          7         8         9  ...       156      157       158      159  \\\n",
       "0 -0.017857 -0.021345 -0.522276  ... -0.072081 -0.13482  4.355264 -0.04656   \n",
       "1 -0.017857 -0.021345 -0.522276  ... -0.072081 -0.13482 -0.229607 -0.04656   \n",
       "2 -0.017857 -0.021345  1.914697  ... -0.072081 -0.13482 -0.229607 -0.04656   \n",
       "3 -0.017857 -0.021345 -0.522276  ... -0.072081 -0.13482 -0.229607 -0.04656   \n",
       "4 -0.017857 -0.021345 -0.522276  ... -0.072081 -0.13482 -0.229607 -0.04656   \n",
       "\n",
       "        160       161       162       163       164       165  \n",
       "0 -2.534778  0.761972 -0.038302 -0.003896 -0.003896 -0.002755  \n",
       "1  0.394512  0.761972 -0.038302 -0.003896 -0.003896 -0.002755  \n",
       "2  0.394512  0.761972 -0.038302 -0.003896 -0.003896 -0.002755  \n",
       "3  0.394512  0.761972 -0.038302 -0.003896 -0.003896 -0.002755  \n",
       "4  0.394512 -1.312385 -0.038302 -0.003896 -0.003896 -0.002755  \n",
       "\n",
       "[5 rows x 166 columns]"
      ]
     },
     "execution_count": 16,
     "metadata": {},
     "output_type": "execute_result"
    }
   ],
   "source": [
    "X_train_reg.head()"
   ]
  },
  {
   "cell_type": "code",
   "execution_count": 17,
   "id": "9b527514-b563-46b2-9bea-df45946d9db7",
   "metadata": {},
   "outputs": [],
   "source": [
    "X_test_reg = pd.read_csv(X_test_reg_path)"
   ]
  },
  {
   "cell_type": "code",
   "execution_count": 18,
   "id": "7ea77d99-3838-46cb-a0d7-0f2253710b82",
   "metadata": {},
   "outputs": [
    {
     "data": {
      "text/html": [
       "<div>\n",
       "<style scoped>\n",
       "    .dataframe tbody tr th:only-of-type {\n",
       "        vertical-align: middle;\n",
       "    }\n",
       "\n",
       "    .dataframe tbody tr th {\n",
       "        vertical-align: top;\n",
       "    }\n",
       "\n",
       "    .dataframe thead th {\n",
       "        text-align: right;\n",
       "    }\n",
       "</style>\n",
       "<table border=\"1\" class=\"dataframe\">\n",
       "  <thead>\n",
       "    <tr style=\"text-align: right;\">\n",
       "      <th></th>\n",
       "      <th>0</th>\n",
       "      <th>1</th>\n",
       "      <th>2</th>\n",
       "      <th>3</th>\n",
       "      <th>4</th>\n",
       "      <th>5</th>\n",
       "      <th>6</th>\n",
       "      <th>7</th>\n",
       "      <th>8</th>\n",
       "      <th>9</th>\n",
       "      <th>...</th>\n",
       "      <th>156</th>\n",
       "      <th>157</th>\n",
       "      <th>158</th>\n",
       "      <th>159</th>\n",
       "      <th>160</th>\n",
       "      <th>161</th>\n",
       "      <th>162</th>\n",
       "      <th>163</th>\n",
       "      <th>164</th>\n",
       "      <th>165</th>\n",
       "    </tr>\n",
       "  </thead>\n",
       "  <tbody>\n",
       "    <tr>\n",
       "      <th>0</th>\n",
       "      <td>0.609506</td>\n",
       "      <td>1.522447</td>\n",
       "      <td>-0.373955</td>\n",
       "      <td>-0.006161</td>\n",
       "      <td>-0.002755</td>\n",
       "      <td>-0.003896</td>\n",
       "      <td>-0.007289</td>\n",
       "      <td>-0.017857</td>\n",
       "      <td>-0.021345</td>\n",
       "      <td>1.914697</td>\n",
       "      <td>...</td>\n",
       "      <td>-0.072081</td>\n",
       "      <td>-0.13482</td>\n",
       "      <td>-0.229607</td>\n",
       "      <td>-0.04656</td>\n",
       "      <td>0.394512</td>\n",
       "      <td>-1.312385</td>\n",
       "      <td>-0.038302</td>\n",
       "      <td>-0.003896</td>\n",
       "      <td>-0.003896</td>\n",
       "      <td>-0.002755</td>\n",
       "    </tr>\n",
       "    <tr>\n",
       "      <th>1</th>\n",
       "      <td>-0.063312</td>\n",
       "      <td>2.588967</td>\n",
       "      <td>-0.373955</td>\n",
       "      <td>-0.006161</td>\n",
       "      <td>-0.002755</td>\n",
       "      <td>-0.003896</td>\n",
       "      <td>-0.007289</td>\n",
       "      <td>-0.017857</td>\n",
       "      <td>-0.021345</td>\n",
       "      <td>1.914697</td>\n",
       "      <td>...</td>\n",
       "      <td>-0.072081</td>\n",
       "      <td>-0.13482</td>\n",
       "      <td>4.355264</td>\n",
       "      <td>-0.04656</td>\n",
       "      <td>-2.534778</td>\n",
       "      <td>0.761972</td>\n",
       "      <td>-0.038302</td>\n",
       "      <td>-0.003896</td>\n",
       "      <td>-0.003896</td>\n",
       "      <td>-0.002755</td>\n",
       "    </tr>\n",
       "    <tr>\n",
       "      <th>2</th>\n",
       "      <td>-0.142861</td>\n",
       "      <td>-1.449330</td>\n",
       "      <td>-0.373955</td>\n",
       "      <td>-0.006161</td>\n",
       "      <td>-0.002755</td>\n",
       "      <td>-0.003896</td>\n",
       "      <td>-0.007289</td>\n",
       "      <td>-0.017857</td>\n",
       "      <td>-0.021345</td>\n",
       "      <td>-0.522276</td>\n",
       "      <td>...</td>\n",
       "      <td>-0.072081</td>\n",
       "      <td>-0.13482</td>\n",
       "      <td>4.355264</td>\n",
       "      <td>-0.04656</td>\n",
       "      <td>-2.534778</td>\n",
       "      <td>0.761972</td>\n",
       "      <td>-0.038302</td>\n",
       "      <td>-0.003896</td>\n",
       "      <td>-0.003896</td>\n",
       "      <td>-0.002755</td>\n",
       "    </tr>\n",
       "    <tr>\n",
       "      <th>3</th>\n",
       "      <td>0.183810</td>\n",
       "      <td>0.980075</td>\n",
       "      <td>-0.373955</td>\n",
       "      <td>-0.006161</td>\n",
       "      <td>-0.002755</td>\n",
       "      <td>-0.003896</td>\n",
       "      <td>-0.007289</td>\n",
       "      <td>-0.017857</td>\n",
       "      <td>-0.021345</td>\n",
       "      <td>-0.522276</td>\n",
       "      <td>...</td>\n",
       "      <td>-0.072081</td>\n",
       "      <td>-0.13482</td>\n",
       "      <td>-0.229607</td>\n",
       "      <td>-0.04656</td>\n",
       "      <td>0.394512</td>\n",
       "      <td>0.761972</td>\n",
       "      <td>-0.038302</td>\n",
       "      <td>-0.003896</td>\n",
       "      <td>-0.003896</td>\n",
       "      <td>-0.002755</td>\n",
       "    </tr>\n",
       "    <tr>\n",
       "      <th>4</th>\n",
       "      <td>0.430950</td>\n",
       "      <td>1.574431</td>\n",
       "      <td>-0.373955</td>\n",
       "      <td>-0.006161</td>\n",
       "      <td>-0.002755</td>\n",
       "      <td>-0.003896</td>\n",
       "      <td>-0.007289</td>\n",
       "      <td>-0.017857</td>\n",
       "      <td>-0.021345</td>\n",
       "      <td>1.914697</td>\n",
       "      <td>...</td>\n",
       "      <td>-0.072081</td>\n",
       "      <td>-0.13482</td>\n",
       "      <td>-0.229607</td>\n",
       "      <td>-0.04656</td>\n",
       "      <td>0.394512</td>\n",
       "      <td>0.761972</td>\n",
       "      <td>-0.038302</td>\n",
       "      <td>-0.003896</td>\n",
       "      <td>-0.003896</td>\n",
       "      <td>-0.002755</td>\n",
       "    </tr>\n",
       "  </tbody>\n",
       "</table>\n",
       "<p>5 rows × 166 columns</p>\n",
       "</div>"
      ],
      "text/plain": [
       "          0         1         2         3         4         5         6  \\\n",
       "0  0.609506  1.522447 -0.373955 -0.006161 -0.002755 -0.003896 -0.007289   \n",
       "1 -0.063312  2.588967 -0.373955 -0.006161 -0.002755 -0.003896 -0.007289   \n",
       "2 -0.142861 -1.449330 -0.373955 -0.006161 -0.002755 -0.003896 -0.007289   \n",
       "3  0.183810  0.980075 -0.373955 -0.006161 -0.002755 -0.003896 -0.007289   \n",
       "4  0.430950  1.574431 -0.373955 -0.006161 -0.002755 -0.003896 -0.007289   \n",
       "\n",
       "          7         8         9  ...       156      157       158      159  \\\n",
       "0 -0.017857 -0.021345  1.914697  ... -0.072081 -0.13482 -0.229607 -0.04656   \n",
       "1 -0.017857 -0.021345  1.914697  ... -0.072081 -0.13482  4.355264 -0.04656   \n",
       "2 -0.017857 -0.021345 -0.522276  ... -0.072081 -0.13482  4.355264 -0.04656   \n",
       "3 -0.017857 -0.021345 -0.522276  ... -0.072081 -0.13482 -0.229607 -0.04656   \n",
       "4 -0.017857 -0.021345  1.914697  ... -0.072081 -0.13482 -0.229607 -0.04656   \n",
       "\n",
       "        160       161       162       163       164       165  \n",
       "0  0.394512 -1.312385 -0.038302 -0.003896 -0.003896 -0.002755  \n",
       "1 -2.534778  0.761972 -0.038302 -0.003896 -0.003896 -0.002755  \n",
       "2 -2.534778  0.761972 -0.038302 -0.003896 -0.003896 -0.002755  \n",
       "3  0.394512  0.761972 -0.038302 -0.003896 -0.003896 -0.002755  \n",
       "4  0.394512  0.761972 -0.038302 -0.003896 -0.003896 -0.002755  \n",
       "\n",
       "[5 rows x 166 columns]"
      ]
     },
     "execution_count": 18,
     "metadata": {},
     "output_type": "execute_result"
    }
   ],
   "source": [
    "X_test_reg.head()"
   ]
  },
  {
   "cell_type": "code",
   "execution_count": 19,
   "id": "0bf84c4e-0def-4afe-9c6e-6123bc33226f",
   "metadata": {},
   "outputs": [],
   "source": [
    "y_train_reg = pd.read_csv(y_train_reg_path)"
   ]
  },
  {
   "cell_type": "code",
   "execution_count": 20,
   "id": "4d9e5f99-0795-4d6a-af21-63e514bcaa0f",
   "metadata": {},
   "outputs": [
    {
     "data": {
      "text/html": [
       "<div>\n",
       "<style scoped>\n",
       "    .dataframe tbody tr th:only-of-type {\n",
       "        vertical-align: middle;\n",
       "    }\n",
       "\n",
       "    .dataframe tbody tr th {\n",
       "        vertical-align: top;\n",
       "    }\n",
       "\n",
       "    .dataframe thead th {\n",
       "        text-align: right;\n",
       "    }\n",
       "</style>\n",
       "<table border=\"1\" class=\"dataframe\">\n",
       "  <thead>\n",
       "    <tr style=\"text-align: right;\">\n",
       "      <th></th>\n",
       "      <th>Permit Type</th>\n",
       "    </tr>\n",
       "  </thead>\n",
       "  <tbody>\n",
       "    <tr>\n",
       "      <th>0</th>\n",
       "      <td>8</td>\n",
       "    </tr>\n",
       "    <tr>\n",
       "      <th>1</th>\n",
       "      <td>8</td>\n",
       "    </tr>\n",
       "    <tr>\n",
       "      <th>2</th>\n",
       "      <td>8</td>\n",
       "    </tr>\n",
       "    <tr>\n",
       "      <th>3</th>\n",
       "      <td>8</td>\n",
       "    </tr>\n",
       "    <tr>\n",
       "      <th>4</th>\n",
       "      <td>8</td>\n",
       "    </tr>\n",
       "  </tbody>\n",
       "</table>\n",
       "</div>"
      ],
      "text/plain": [
       "   Permit Type\n",
       "0            8\n",
       "1            8\n",
       "2            8\n",
       "3            8\n",
       "4            8"
      ]
     },
     "execution_count": 20,
     "metadata": {},
     "output_type": "execute_result"
    }
   ],
   "source": [
    "y_train_reg.head()"
   ]
  },
  {
   "cell_type": "code",
   "execution_count": 21,
   "id": "6492e556-4463-4a7e-bc02-22546f06c3ad",
   "metadata": {},
   "outputs": [],
   "source": [
    "y_test_reg = pd.read_csv(y_test_reg_path)"
   ]
  },
  {
   "cell_type": "code",
   "execution_count": 22,
   "id": "e3c5b402-9da8-4578-a71e-617387fd4782",
   "metadata": {},
   "outputs": [
    {
     "data": {
      "text/html": [
       "<div>\n",
       "<style scoped>\n",
       "    .dataframe tbody tr th:only-of-type {\n",
       "        vertical-align: middle;\n",
       "    }\n",
       "\n",
       "    .dataframe tbody tr th {\n",
       "        vertical-align: top;\n",
       "    }\n",
       "\n",
       "    .dataframe thead th {\n",
       "        text-align: right;\n",
       "    }\n",
       "</style>\n",
       "<table border=\"1\" class=\"dataframe\">\n",
       "  <thead>\n",
       "    <tr style=\"text-align: right;\">\n",
       "      <th></th>\n",
       "      <th>Permit Type</th>\n",
       "    </tr>\n",
       "  </thead>\n",
       "  <tbody>\n",
       "    <tr>\n",
       "      <th>0</th>\n",
       "      <td>8</td>\n",
       "    </tr>\n",
       "    <tr>\n",
       "      <th>1</th>\n",
       "      <td>8</td>\n",
       "    </tr>\n",
       "    <tr>\n",
       "      <th>2</th>\n",
       "      <td>8</td>\n",
       "    </tr>\n",
       "    <tr>\n",
       "      <th>3</th>\n",
       "      <td>4</td>\n",
       "    </tr>\n",
       "    <tr>\n",
       "      <th>4</th>\n",
       "      <td>8</td>\n",
       "    </tr>\n",
       "  </tbody>\n",
       "</table>\n",
       "</div>"
      ],
      "text/plain": [
       "   Permit Type\n",
       "0            8\n",
       "1            8\n",
       "2            8\n",
       "3            4\n",
       "4            8"
      ]
     },
     "execution_count": 22,
     "metadata": {},
     "output_type": "execute_result"
    }
   ],
   "source": [
    "y_test_reg.head()"
   ]
  },
  {
   "cell_type": "markdown",
   "id": "2b9afe19-0edd-477d-9706-6195510a0ad2",
   "metadata": {},
   "source": [
    "## 2.2. Hyperparameter tuning:"
   ]
  },
  {
   "cell_type": "markdown",
   "id": "d1a8af14-dfc7-429e-8b2a-9e35e9555d8d",
   "metadata": {},
   "source": [
    "### 2.2.1. Randomized grid search:"
   ]
  },
  {
   "cell_type": "code",
   "execution_count": 25,
   "id": "db8701f5-2b7a-4b74-813d-1e2ff31ebfbf",
   "metadata": {},
   "outputs": [
    {
     "data": {
      "text/html": [
       "<style>#sk-container-id-1 {color: black;}#sk-container-id-1 pre{padding: 0;}#sk-container-id-1 div.sk-toggleable {background-color: white;}#sk-container-id-1 label.sk-toggleable__label {cursor: pointer;display: block;width: 100%;margin-bottom: 0;padding: 0.3em;box-sizing: border-box;text-align: center;}#sk-container-id-1 label.sk-toggleable__label-arrow:before {content: \"▸\";float: left;margin-right: 0.25em;color: #696969;}#sk-container-id-1 label.sk-toggleable__label-arrow:hover:before {color: black;}#sk-container-id-1 div.sk-estimator:hover label.sk-toggleable__label-arrow:before {color: black;}#sk-container-id-1 div.sk-toggleable__content {max-height: 0;max-width: 0;overflow: hidden;text-align: left;background-color: #f0f8ff;}#sk-container-id-1 div.sk-toggleable__content pre {margin: 0.2em;color: black;border-radius: 0.25em;background-color: #f0f8ff;}#sk-container-id-1 input.sk-toggleable__control:checked~div.sk-toggleable__content {max-height: 200px;max-width: 100%;overflow: auto;}#sk-container-id-1 input.sk-toggleable__control:checked~label.sk-toggleable__label-arrow:before {content: \"▾\";}#sk-container-id-1 div.sk-estimator input.sk-toggleable__control:checked~label.sk-toggleable__label {background-color: #d4ebff;}#sk-container-id-1 div.sk-label input.sk-toggleable__control:checked~label.sk-toggleable__label {background-color: #d4ebff;}#sk-container-id-1 input.sk-hidden--visually {border: 0;clip: rect(1px 1px 1px 1px);clip: rect(1px, 1px, 1px, 1px);height: 1px;margin: -1px;overflow: hidden;padding: 0;position: absolute;width: 1px;}#sk-container-id-1 div.sk-estimator {font-family: monospace;background-color: #f0f8ff;border: 1px dotted black;border-radius: 0.25em;box-sizing: border-box;margin-bottom: 0.5em;}#sk-container-id-1 div.sk-estimator:hover {background-color: #d4ebff;}#sk-container-id-1 div.sk-parallel-item::after {content: \"\";width: 100%;border-bottom: 1px solid gray;flex-grow: 1;}#sk-container-id-1 div.sk-label:hover label.sk-toggleable__label {background-color: #d4ebff;}#sk-container-id-1 div.sk-serial::before {content: \"\";position: absolute;border-left: 1px solid gray;box-sizing: border-box;top: 0;bottom: 0;left: 50%;z-index: 0;}#sk-container-id-1 div.sk-serial {display: flex;flex-direction: column;align-items: center;background-color: white;padding-right: 0.2em;padding-left: 0.2em;position: relative;}#sk-container-id-1 div.sk-item {position: relative;z-index: 1;}#sk-container-id-1 div.sk-parallel {display: flex;align-items: stretch;justify-content: center;background-color: white;position: relative;}#sk-container-id-1 div.sk-item::before, #sk-container-id-1 div.sk-parallel-item::before {content: \"\";position: absolute;border-left: 1px solid gray;box-sizing: border-box;top: 0;bottom: 0;left: 50%;z-index: -1;}#sk-container-id-1 div.sk-parallel-item {display: flex;flex-direction: column;z-index: 1;position: relative;background-color: white;}#sk-container-id-1 div.sk-parallel-item:first-child::after {align-self: flex-end;width: 50%;}#sk-container-id-1 div.sk-parallel-item:last-child::after {align-self: flex-start;width: 50%;}#sk-container-id-1 div.sk-parallel-item:only-child::after {width: 0;}#sk-container-id-1 div.sk-dashed-wrapped {border: 1px dashed gray;margin: 0 0.4em 0.5em 0.4em;box-sizing: border-box;padding-bottom: 0.4em;background-color: white;}#sk-container-id-1 div.sk-label label {font-family: monospace;font-weight: bold;display: inline-block;line-height: 1.2em;}#sk-container-id-1 div.sk-label-container {text-align: center;}#sk-container-id-1 div.sk-container {/* jupyter's `normalize.less` sets `[hidden] { display: none; }` but bootstrap.min.css set `[hidden] { display: none !important; }` so we also need the `!important` here to be able to override the default hidden behavior on the sphinx rendered scikit-learn.org. See: https://github.com/scikit-learn/scikit-learn/issues/21755 */display: inline-block !important;position: relative;}#sk-container-id-1 div.sk-text-repr-fallback {display: none;}</style><div id=\"sk-container-id-1\" class=\"sk-top-container\"><div class=\"sk-text-repr-fallback\"><pre>RandomizedSearchCV(cv=3,\n",
       "                   estimator=LogisticRegression(class_weight=&#x27;balanced&#x27;,\n",
       "                                                multi_class=&#x27;multinomial&#x27;),\n",
       "                   n_jobs=-1,\n",
       "                   param_distributions={&#x27;C&#x27;: [0.001, 0.01, 0.1, 1, 10, 100],\n",
       "                                        &#x27;max_iter&#x27;: [100, 300, 500, 700, 1000]},\n",
       "                   random_state=42, scoring=&#x27;f1_macro&#x27;)</pre><b>In a Jupyter environment, please rerun this cell to show the HTML representation or trust the notebook. <br />On GitHub, the HTML representation is unable to render, please try loading this page with nbviewer.org.</b></div><div class=\"sk-container\" hidden><div class=\"sk-item sk-dashed-wrapped\"><div class=\"sk-label-container\"><div class=\"sk-label sk-toggleable\"><input class=\"sk-toggleable__control sk-hidden--visually\" id=\"sk-estimator-id-1\" type=\"checkbox\" ><label for=\"sk-estimator-id-1\" class=\"sk-toggleable__label sk-toggleable__label-arrow\">RandomizedSearchCV</label><div class=\"sk-toggleable__content\"><pre>RandomizedSearchCV(cv=3,\n",
       "                   estimator=LogisticRegression(class_weight=&#x27;balanced&#x27;,\n",
       "                                                multi_class=&#x27;multinomial&#x27;),\n",
       "                   n_jobs=-1,\n",
       "                   param_distributions={&#x27;C&#x27;: [0.001, 0.01, 0.1, 1, 10, 100],\n",
       "                                        &#x27;max_iter&#x27;: [100, 300, 500, 700, 1000]},\n",
       "                   random_state=42, scoring=&#x27;f1_macro&#x27;)</pre></div></div></div><div class=\"sk-parallel\"><div class=\"sk-parallel-item\"><div class=\"sk-item\"><div class=\"sk-label-container\"><div class=\"sk-label sk-toggleable\"><input class=\"sk-toggleable__control sk-hidden--visually\" id=\"sk-estimator-id-2\" type=\"checkbox\" ><label for=\"sk-estimator-id-2\" class=\"sk-toggleable__label sk-toggleable__label-arrow\">estimator: LogisticRegression</label><div class=\"sk-toggleable__content\"><pre>LogisticRegression(class_weight=&#x27;balanced&#x27;, multi_class=&#x27;multinomial&#x27;)</pre></div></div></div><div class=\"sk-serial\"><div class=\"sk-item\"><div class=\"sk-estimator sk-toggleable\"><input class=\"sk-toggleable__control sk-hidden--visually\" id=\"sk-estimator-id-3\" type=\"checkbox\" ><label for=\"sk-estimator-id-3\" class=\"sk-toggleable__label sk-toggleable__label-arrow\">LogisticRegression</label><div class=\"sk-toggleable__content\"><pre>LogisticRegression(class_weight=&#x27;balanced&#x27;, multi_class=&#x27;multinomial&#x27;)</pre></div></div></div></div></div></div></div></div></div></div>"
      ],
      "text/plain": [
       "RandomizedSearchCV(cv=3,\n",
       "                   estimator=LogisticRegression(class_weight='balanced',\n",
       "                                                multi_class='multinomial'),\n",
       "                   n_jobs=-1,\n",
       "                   param_distributions={'C': [0.001, 0.01, 0.1, 1, 10, 100],\n",
       "                                        'max_iter': [100, 300, 500, 700, 1000]},\n",
       "                   random_state=42, scoring='f1_macro')"
      ]
     },
     "execution_count": 25,
     "metadata": {},
     "output_type": "execute_result"
    }
   ],
   "source": [
    "# Hyperparameters to tune:\n",
    "param_dist = {\n",
    "    \"C\": [0.001, 0.01, 0.1, 1, 10, 100],\n",
    "    \"max_iter\": [100, 300, 500, 700, 1000]\n",
    "}\n",
    "\n",
    "# class_weight to counteract on the target class imbalance (refer to preprocessing phase and stratify=y)\n",
    "lrmn = LogisticRegression(multi_class=\"multinomial\", solver=\"lbfgs\", penalty=\"l2\", class_weight=\"balanced\")\n",
    "\n",
    "rs = RandomizedSearchCV(\n",
    "    estimator=lrmn,\n",
    "    param_distributions=param_dist,\n",
    "    n_iter=10,\n",
    "    cv=3,\n",
    "    scoring=\"f1_macro\", # treats all classes equally in case of imbalance\n",
    "    random_state=42,\n",
    "    n_jobs = -1 # parallel computation, use all CPU cores\n",
    ")\n",
    "\n",
    "rs.fit(X_train_reg, y_train_reg)"
   ]
  },
  {
   "cell_type": "code",
   "execution_count": 26,
   "id": "412d9fdc-c145-4415-8381-b9f83d850e72",
   "metadata": {},
   "outputs": [
    {
     "name": "stdout",
     "output_type": "stream",
     "text": [
      "Best parameters: {'max_iter': 1000, 'C': 10}\n",
      "Best score: 0.46221903220521393\n"
     ]
    }
   ],
   "source": [
    "print(f\"Best parameters: {rs.best_params_}\")\n",
    "print(f\"Best score: {rs.best_score_}\")"
   ]
  },
  {
   "cell_type": "code",
   "execution_count": 27,
   "id": "18f0c955-2cb5-4701-b57f-0c313ca973d8",
   "metadata": {},
   "outputs": [],
   "source": [
    "y_pred_reg_rgs = rs.predict(X_test_reg)"
   ]
  },
  {
   "cell_type": "markdown",
   "id": "955f860f-8a54-4183-9c81-5f7822a27379",
   "metadata": {},
   "source": [
    "### 2.2.2. Bayesian optimization:"
   ]
  },
  {
   "cell_type": "code",
   "execution_count": 29,
   "id": "25a5c7c6-d48d-46e5-9c9c-704cea42e1ca",
   "metadata": {},
   "outputs": [],
   "source": [
    "# step1: function\n",
    "def mn_log_reg_optimization(C, max_iter):\n",
    "    \"\"\"\n",
    "    Accept hyperparameters C and max_iter\n",
    "    Trains a multinomial LogisticRegression model\n",
    "    Evaluates it with cross validation.\n",
    "    Returns a F1_macro score\n",
    "    \"\"\"\n",
    "\n",
    "    mr_log_reg_model = LogisticRegression(\n",
    "        multi_class=\"multinomial\",\n",
    "        solver=\"lbfgs\",\n",
    "        penalty=\"l2\",\n",
    "        class_weight=\"balanced\",\n",
    "        C=C,\n",
    "        max_iter=int(max_iter) # prevents float error in Bayesian Optimization\n",
    "    )\n",
    "\n",
    "\n",
    "    model_cv = cross_val_score(\n",
    "        mr_log_reg_model,\n",
    "        X=X_train_reg,\n",
    "        y=y_train_reg, \n",
    "        cv=3, \n",
    "        scoring=\"f1_macro\")\n",
    "\n",
    "    return model_cv.mean()"
   ]
  },
  {
   "cell_type": "code",
   "execution_count": 30,
   "id": "0c01edc5-d1d5-40ba-ab3c-773658d1ddc9",
   "metadata": {},
   "outputs": [],
   "source": [
    "# step 2: optimizer\n",
    "bounds_reg = {\n",
    "    \"C\":(0.001, 0.01, 0.1, 1, 10, 100),\n",
    "    \"max_iter\":(100, 300, 500, 700, 1000)\n",
    "}\n",
    "\n",
    "optimizer_reg = BayesianOptimization(\n",
    "    f=mn_log_reg_optimization,\n",
    "    pbounds=bounds_reg,\n",
    "    random_state=42,\n",
    "    verbose=2\n",
    ")"
   ]
  },
  {
   "cell_type": "code",
   "execution_count": 31,
   "id": "31c98911-3b29-47d4-be45-0b0ec62a60ec",
   "metadata": {},
   "outputs": [
    {
     "name": "stdout",
     "output_type": "stream",
     "text": [
      "|   iter    |  target   |     C     | max_iter  |\n",
      "-------------------------------------------------\n",
      "| \u001b[39m1        \u001b[39m | \u001b[39m0.4541191\u001b[39m | \u001b[39m1        \u001b[39m | \u001b[39m1000     \u001b[39m |\n",
      "| \u001b[39m2        \u001b[39m | \u001b[39m0.4316533\u001b[39m | \u001b[39m0.1      \u001b[39m | \u001b[39m1000     \u001b[39m |\n",
      "| \u001b[35m3        \u001b[39m | \u001b[35m0.4546624\u001b[39m | \u001b[35m10       \u001b[39m | \u001b[35m300      \u001b[39m |\n",
      "| \u001b[39m4        \u001b[39m | \u001b[39m0.4316533\u001b[39m | \u001b[39m0.1      \u001b[39m | \u001b[39m500      \u001b[39m |\n",
      "| \u001b[39m5        \u001b[39m | \u001b[39m0.4316533\u001b[39m | \u001b[39m0.1      \u001b[39m | \u001b[39m500      \u001b[39m |\n",
      "| \u001b[35m6        \u001b[39m | \u001b[35m0.4615119\u001b[39m | \u001b[35m100      \u001b[39m | \u001b[35m700      \u001b[39m |\n",
      "| \u001b[39m7        \u001b[39m | \u001b[39m0.2804446\u001b[39m | \u001b[39m0.001    \u001b[39m | \u001b[39m100      \u001b[39m |\n",
      "| \u001b[39m8        \u001b[39m | \u001b[39m0.3767292\u001b[39m | \u001b[39m0.01     \u001b[39m | \u001b[39m100      \u001b[39m |\n",
      "| \u001b[39m9        \u001b[39m | \u001b[39m0.4522193\u001b[39m | \u001b[39m1        \u001b[39m | \u001b[39m500      \u001b[39m |\n",
      "| \u001b[39m10       \u001b[39m | \u001b[39m0.2805929\u001b[39m | \u001b[39m0.001    \u001b[39m | \u001b[39m300      \u001b[39m |\n",
      "| \u001b[39m11       \u001b[39m | \u001b[39m0.3752744\u001b[39m | \u001b[39m0.01     \u001b[39m | \u001b[39m500      \u001b[39m |\n",
      "| \u001b[39m12       \u001b[39m | \u001b[39m0.4572941\u001b[39m | \u001b[39m100      \u001b[39m | \u001b[39m300      \u001b[39m |\n",
      "| \u001b[39m13       \u001b[39m | \u001b[39m0.4572941\u001b[39m | \u001b[39m100      \u001b[39m | \u001b[39m300      \u001b[39m |\n",
      "| \u001b[39m14       \u001b[39m | \u001b[39m0.4468586\u001b[39m | \u001b[39m1        \u001b[39m | \u001b[39m100      \u001b[39m |\n",
      "| \u001b[39m15       \u001b[39m | \u001b[39m0.4468586\u001b[39m | \u001b[39m1        \u001b[39m | \u001b[39m100      \u001b[39m |\n",
      "| \u001b[39m16       \u001b[39m | \u001b[39m0.2805929\u001b[39m | \u001b[39m0.001    \u001b[39m | \u001b[39m700      \u001b[39m |\n",
      "| \u001b[39m17       \u001b[39m | \u001b[39m0.2805929\u001b[39m | \u001b[39m0.001    \u001b[39m | \u001b[39m700      \u001b[39m |\n",
      "| \u001b[39m18       \u001b[39m | \u001b[39m0.4299932\u001b[39m | \u001b[39m0.1      \u001b[39m | \u001b[39m100      \u001b[39m |\n",
      "| \u001b[39m19       \u001b[39m | \u001b[39m0.4525355\u001b[39m | \u001b[39m1        \u001b[39m | \u001b[39m700      \u001b[39m |\n",
      "| \u001b[39m20       \u001b[39m | \u001b[39m0.4525355\u001b[39m | \u001b[39m1        \u001b[39m | \u001b[39m700      \u001b[39m |\n",
      "=================================================\n"
     ]
    }
   ],
   "source": [
    "optimizer_reg.maximize(init_points=5, n_iter=15)   "
   ]
  },
  {
   "cell_type": "code",
   "execution_count": 32,
   "id": "041c1af4-120b-48f7-a4ff-d1bd36806ff6",
   "metadata": {},
   "outputs": [],
   "source": [
    "# step3: best parameters\n",
    "# best_params_reg = optimizer_reg.max\n",
    "# print(best_params_reg)"
   ]
  },
  {
   "cell_type": "code",
   "execution_count": 33,
   "id": "051db46f-cfae-4aa8-aae5-41817126610f",
   "metadata": {},
   "outputs": [],
   "source": [
    "# C = best_params_reg[\"params\"][\"C\"]\n",
    "# max_iter = best_params_reg[\"params\"][\"max_iter\"]\n",
    "\n",
    "# print(f\"Best C: {C}\")\n",
    "# print(f\"Best max_iter: {max_iter}\")"
   ]
  },
  {
   "cell_type": "markdown",
   "id": "1b9c8bfe-ab60-4b23-becc-a8a33ebfcda4",
   "metadata": {},
   "source": [
    "**\"max\" method showed some corruption with a null value of the best parameters for \"C\" and \"max_iter\".**  \n",
    "**We chose to opt for \"res\" method instead.**  "
   ]
  },
  {
   "cell_type": "code",
   "execution_count": 35,
   "id": "d37d19bc-1e8a-4c89-b0dc-0bf82270c2b2",
   "metadata": {},
   "outputs": [
    {
     "name": "stdout",
     "output_type": "stream",
     "text": [
      "{'C': 100, 'max_iter': 700}\n"
     ]
    }
   ],
   "source": [
    "# for more safety and efficiency, manual confirmation of the best parameters.\n",
    "# confirms the maximize table above.\n",
    "best_params_reg = pd.DataFrame(optimizer_reg.res)\\\n",
    "    .sort_values(by=\"target\", ascending=False,)\\\n",
    "    .iloc[0][\"params\"]\n",
    "print(best_params_reg)"
   ]
  },
  {
   "cell_type": "code",
   "execution_count": 36,
   "id": "3d718af0-eefb-4f9d-9cdf-b3b7f2d70d10",
   "metadata": {},
   "outputs": [],
   "source": [
    "# best multinomial LogisticRegression model based on best C and max_iter fro performance petrics:\n",
    "best_model_reg = LogisticRegression(\n",
    "    multi_class=\"multinomial\",\n",
    "    solver=\"lbfgs\",\n",
    "    penalty=\"l2\",\n",
    "    class_weight=\"balanced\",\n",
    "    C=best_params_reg[\"C\"],\n",
    "    max_iter=int(best_params_reg[\"max_iter\"])\n",
    ")   "
   ]
  },
  {
   "cell_type": "code",
   "execution_count": 37,
   "id": "5fb9fb40-ff45-4271-a774-7710f7b872e3",
   "metadata": {},
   "outputs": [],
   "source": [
    "best_model_reg.fit(X_train_reg, y_train_reg)\n",
    "y_pred_reg_bopt = best_model_reg.predict(X_test_reg)"
   ]
  },
  {
   "cell_type": "markdown",
   "id": "ca3ef78c-5a96-4fe3-8476-9526a1dfb754",
   "metadata": {},
   "source": [
    "## 2.3. Performance metrics:"
   ]
  },
  {
   "cell_type": "markdown",
   "id": "9658d787-7bb1-432a-9a39-2a7fc5d0c643",
   "metadata": {},
   "source": [
    "### 2.3.1. Randomized search metrics:"
   ]
  },
  {
   "cell_type": "code",
   "execution_count": 45,
   "id": "4bd5e7b2-994a-4721-a455-d4b41c57a901",
   "metadata": {},
   "outputs": [
    {
     "name": "stdout",
     "output_type": "stream",
     "text": [
      "multinomial logistic regression, randomized search, F1 score: 0.45116997545673154.\n",
      "multinomial logistic regression, randomized search, Precision score: 0.42290875075706924.\n",
      "multinomial logistic regression, randomized search, Recall score: 0.8286147904410551.\n",
      "\n",
      "multinomial logistic regression, randomized search, Classification Report:\n",
      "               precision    recall  f1-score   support\n",
      "\n",
      "           1       0.28      0.73      0.41        30\n",
      "           2       0.35      0.96      0.51       120\n",
      "           3       0.15      0.89      0.25      1753\n",
      "           4       0.92      0.87      0.89       400\n",
      "           5       0.01      0.80      0.01        15\n",
      "           6       0.66      0.95      0.78        75\n",
      "           7       0.02      0.89      0.05        70\n",
      "           8       0.99      0.55      0.71     30475\n",
      "\n",
      "    accuracy                           0.58     32938\n",
      "   macro avg       0.42      0.83      0.45     32938\n",
      "weighted avg       0.94      0.58      0.68     32938\n",
      ".\n",
      "\n"
     ]
    },
    {
     "data": {
      "image/png": "[encoded data removed]",
      "text/plain": [
       "<Figure size 640x480 with 2 Axes>"
      ]
     },
     "metadata": {},
     "output_type": "display_data"
    },
    {
     "name": "stdout",
     "output_type": "stream",
     "text": [
      "Text metrics saved to: ..\\reports\\model_metrics_files\\model_metrics_file_multinomial_logistic_regression_randomized_search.txt\n",
      "Confusion matrix saved to: ..\\reports\\model_metrics_files\\confusion_matrix_multinomial_logistic_regression_randomized_search.png\n",
      "{'f1': 0.45116997545673154, 'precision': 0.42290875075706924, 'recall': 0.8286147904410551}\n"
     ]
    }
   ],
   "source": [
    "reg_rs_metrics = model_performance_metrics(\"multinomial logistic regression\", \"randomized search\", y_test_reg, y_pred_reg_rgs)\n",
    "print(reg_rs_metrics)"
   ]
  },
  {
   "cell_type": "markdown",
   "id": "da94877b-df2d-4b18-b449-9282b64a9168",
   "metadata": {},
   "source": [
    "### 2.3.2. Regression-based model, randomized search performance metrics observations:"
   ]
  },
  {
   "cell_type": "markdown",
   "id": "09e32cf7-3865-4eb3-ac07-2301e6ed5acd",
   "metadata": {},
   "source": [
    "Due to **severe class imbalance** in the target variable — where **Class 7 dominates the dataset (~90%)** — the **accuracy score is misleading**.  \n",
    "A model could achieve high accuracy simply by **always predicting the majority class**, without learning to correctly classify the minority classes.\n",
    "As a result, **accuracy was excluded as a performance metric** in this analysis.  \n",
    "Instead of accuracy, the evaluation focused on more informative metrics:  \n",
    "- **F1-score**  \n",
    "- **Precision**  \n",
    "- **Recall**  \n",
    "- **Confusion Matrix**\n",
    "\n",
    "In a confusion matrix:  \n",
    "- ROWS = **actual (true) labels**  \n",
    "- COLUMNS = **predicted labels**\n",
    "- `stratify=y` parameter in `train_test_split`\n",
    "\n",
    "The intial target variable (dependent variable) had an important class imbalance favouring the class 7, which represented close to `90%` of the observations.  \n",
    "\n",
    "We tried to minimize this imbalance with:   \n",
    "- `stratify=y` parameter in `train_test_split.\n",
    "- `class_weight` parameters in the models."
   ]
  },
  {
   "cell_type": "markdown",
   "id": "bc71fb99-422e-4ea1-9235-80546fcce34d",
   "metadata": {},
   "source": [
    "This confusion matrix of the multinomial logistic regression based on randomized search shows:  \n",
    "- A large amount of samples from the class 7 were misclassified either as class 2, class 4, class 6.  \n",
    "- A little bit more than half the class 7 were correctly predicted.\n",
    "- **This may show a persistent confusion due to the class imbalance despite the balancing efforts.**  \n",
    "- Some samples of the class 2  were misclassified as the class 7.\n",
    "\n",
    "High recall compared to low precision can be explained is a sign that the mode lis overpredicting the dominant class.  \n",
    "F1 score is the harmonic mean of precision and recall and precision drags the effectiveness down.  \n",
    "The F1 score makes the model prediction **moderate** but inits lower range.  "
   ]
  },
  {
   "cell_type": "markdown",
   "id": "26b3813c-5f36-4d96-82cb-2a8721de897d",
   "metadata": {},
   "source": [
    "### 2.3.3. Bayesian optimization metrics:"
   ]
  },
  {
   "cell_type": "code",
   "execution_count": 55,
   "id": "94794835-14ae-4e00-924d-e02e40804e39",
   "metadata": {},
   "outputs": [
    {
     "name": "stdout",
     "output_type": "stream",
     "text": [
      "multinomial logistic regression, bayesian optimization, F1 score: 0.4494829005254729.\n",
      "multinomial logistic regression, bayesian optimization, Precision score: 0.42190258709758827.\n",
      "multinomial logistic regression, bayesian optimization, Recall score: 0.8243301214467251.\n",
      "\n",
      "multinomial logistic regression, bayesian optimization, Classification Report:\n",
      "               precision    recall  f1-score   support\n",
      "\n",
      "           1       0.28      0.70      0.40        30\n",
      "           2       0.35      0.96      0.51       120\n",
      "           3       0.15      0.89      0.25      1753\n",
      "           4       0.92      0.87      0.89       400\n",
      "           5       0.01      0.80      0.01        15\n",
      "           6       0.66      0.95      0.78        75\n",
      "           7       0.02      0.89      0.05        70\n",
      "           8       0.99      0.55      0.71     30475\n",
      "\n",
      "    accuracy                           0.58     32938\n",
      "   macro avg       0.42      0.82      0.45     32938\n",
      "weighted avg       0.94      0.58      0.68     32938\n",
      ".\n",
      "\n"
     ]
    },
    {
     "data": {
      "image/png": "[encoded data removed]",
      "text/plain": [
       "<Figure size 640x480 with 2 Axes>"
      ]
     },
     "metadata": {},
     "output_type": "display_data"
    },
    {
     "name": "stdout",
     "output_type": "stream",
     "text": [
      "Text metrics saved to: C:\\Users\\Benoit Loze\\Desktop\\SPRINGBOARD\\_CURSUS\\29_Data_Storytelling\\29.4_CapstoneTwo_Final_Project_Report\\29.4_capstonetwo_finalproject_report\\reports\\model_metrics_files\\model_metrics_file_multinomial_logistic_regression_bayesian_optimization.txt\n",
      "Confusion matrix saved to: C:\\Users\\Benoit Loze\\Desktop\\SPRINGBOARD\\_CURSUS\\29_Data_Storytelling\\29.4_CapstoneTwo_Final_Project_Report\\29.4_capstonetwo_finalproject_report\\reports\\model_metrics_files\\confusion_matrix_multinomial_logistic_regression_bayesian_optimization.png\n",
      "{'f1': 0.4494829005254729, 'precision': 0.42190258709758827, 'recall': 0.8243301214467251}\n"
     ]
    }
   ],
   "source": [
    "reg_bopt_metrics = model_performance_metrics(\"multinomial logistic regression\", \"bayesian optimization\", y_test_reg, y_pred_reg_bopt)\n",
    "print(reg_bopt_metrics)"
   ]
  },
  {
   "cell_type": "markdown",
   "id": "53ee8c24-0712-4921-b2a6-5854b88b66f6",
   "metadata": {},
   "source": [
    "### 2.3.4. Regression based model, bayesian optimization performance metrics observations:"
   ]
  },
  {
   "cell_type": "markdown",
   "id": "29b59fcc-6901-4bd9-ba6a-5d99a74a6ece",
   "metadata": {},
   "source": [
    "**Concerning the confusion matrix and performance metrics, the observations made for the randomized search remain the globally the same.** "
   ]
  },
  {
   "cell_type": "markdown",
   "id": "cebf4898-6c07-4af4-9a62-9175b6328d21",
   "metadata": {},
   "source": [
    "### 2.3.5. Performance metrics comparison:"
   ]
  },
  {
   "cell_type": "code",
   "execution_count": 60,
   "id": "a90b12af-0cde-4b65-a73d-15a035967306",
   "metadata": {},
   "outputs": [
    {
     "name": "stdout",
     "output_type": "stream",
     "text": [
      "Performance metrics fro the multinomial logistic regression based on randomized search: {'f1': 0.45116997545673154, 'precision': 0.42290875075706924, 'recall': 0.8286147904410551}.\n",
      "Performance metrics fro the multinomial logistic regression based on bayesian optimization: {'f1': 0.4494829005254729, 'precision': 0.42190258709758827, 'recall': 0.8243301214467251}.\n"
     ]
    }
   ],
   "source": [
    "print(f\"Performance metrics fro the multinomial logistic regression based on randomized search: {reg_rs_metrics}.\")\n",
    "print(f\"Performance metrics fro the multinomial logistic regression based on bayesian optimization: {reg_bopt_metrics}.\")"
   ]
  },
  {
   "cell_type": "markdown",
   "id": "4e68c327-203b-4ebb-aee7-87a5623d232a",
   "metadata": {},
   "source": [
    "**In this case of multinomial logistic regression, no real difference in terms of performance metrics was noted between the use of either randomized search or bayesian optimization.**  "
   ]
  },
  {
   "cell_type": "markdown",
   "id": "6e3891e2-1ddd-4ceb-b4d2-3b763a8f734b",
   "metadata": {},
   "source": [
    "# 3. Tree-based model:"
   ]
  },
  {
   "cell_type": "markdown",
   "id": "6746fd00-6526-4623-a61a-7d60bb3887a6",
   "metadata": {},
   "source": [
    "## 3.1. Data load:"
   ]
  },
  {
   "cell_type": "code",
   "execution_count": 65,
   "id": "2f84b2a4-bdb9-4301-b34e-dafca636217e",
   "metadata": {},
   "outputs": [],
   "source": [
    "X_train_tree_path = r\"..\\data\\raw\\_tree_based\\X_train_tree_final.csv\""
   ]
  },
  {
   "cell_type": "code",
   "execution_count": 67,
   "id": "0012c5c5-8743-4a0f-b7f2-75faa1ebc9c7",
   "metadata": {},
   "outputs": [],
   "source": [
    "X_test_tree_path = r\"..\\data\\raw\\_tree_based\\X_test_tree_final.csv\""
   ]
  },
  {
   "cell_type": "code",
   "execution_count": 69,
   "id": "14e3613e-e82a-4455-a215-a21f45137fe8",
   "metadata": {},
   "outputs": [],
   "source": [
    "y_train_tree_path = r\"..\\data\\raw\\_tree_based\\y_train_tree_final.csv\""
   ]
  },
  {
   "cell_type": "code",
   "execution_count": 71,
   "id": "ac125a9e-5c5a-4f94-ba69-502f9d7da74d",
   "metadata": {},
   "outputs": [],
   "source": [
    "y_test_tree_path = r\"..\\data\\raw\\_tree_based\\y_test_tree_final.csv\""
   ]
  },
  {
   "cell_type": "code",
   "execution_count": 73,
   "id": "0c15cd38-9d76-4625-ab48-03e29a283268",
   "metadata": {},
   "outputs": [
    {
     "data": {
      "text/html": [
       "<div>\n",
       "<style scoped>\n",
       "    .dataframe tbody tr th:only-of-type {\n",
       "        vertical-align: middle;\n",
       "    }\n",
       "\n",
       "    .dataframe tbody tr th {\n",
       "        vertical-align: top;\n",
       "    }\n",
       "\n",
       "    .dataframe thead th {\n",
       "        text-align: right;\n",
       "    }\n",
       "</style>\n",
       "<table border=\"1\" class=\"dataframe\">\n",
       "  <thead>\n",
       "    <tr style=\"text-align: right;\">\n",
       "      <th></th>\n",
       "      <th>Proposed Use</th>\n",
       "      <th>Neighborhoods - Analysis Boundaries</th>\n",
       "      <th>Estimated Cost</th>\n",
       "      <th>Supervisor District</th>\n",
       "      <th>Proposed Units</th>\n",
       "      <th>Number of Existing Stories</th>\n",
       "      <th>Proposed Construction Type</th>\n",
       "      <th>Plansets</th>\n",
       "    </tr>\n",
       "  </thead>\n",
       "  <tbody>\n",
       "    <tr>\n",
       "      <th>0</th>\n",
       "      <td>7.584718</td>\n",
       "      <td>7.457918</td>\n",
       "      <td>9.615872</td>\n",
       "      <td>7.517967</td>\n",
       "      <td>0.000000</td>\n",
       "      <td>7.669109</td>\n",
       "      <td>7.530312</td>\n",
       "      <td>7.470098</td>\n",
       "    </tr>\n",
       "    <tr>\n",
       "      <th>1</th>\n",
       "      <td>7.735498</td>\n",
       "      <td>7.711285</td>\n",
       "      <td>8.006701</td>\n",
       "      <td>7.729651</td>\n",
       "      <td>0.693147</td>\n",
       "      <td>7.669109</td>\n",
       "      <td>7.664810</td>\n",
       "      <td>7.470098</td>\n",
       "    </tr>\n",
       "    <tr>\n",
       "      <th>2</th>\n",
       "      <td>7.549193</td>\n",
       "      <td>7.612565</td>\n",
       "      <td>11.512935</td>\n",
       "      <td>7.672804</td>\n",
       "      <td>1.609438</td>\n",
       "      <td>7.669109</td>\n",
       "      <td>7.664810</td>\n",
       "      <td>7.470098</td>\n",
       "    </tr>\n",
       "    <tr>\n",
       "      <th>3</th>\n",
       "      <td>7.621195</td>\n",
       "      <td>7.630300</td>\n",
       "      <td>8.006701</td>\n",
       "      <td>7.655607</td>\n",
       "      <td>1.098612</td>\n",
       "      <td>7.594720</td>\n",
       "      <td>7.664810</td>\n",
       "      <td>7.470098</td>\n",
       "    </tr>\n",
       "    <tr>\n",
       "      <th>4</th>\n",
       "      <td>7.621195</td>\n",
       "      <td>7.785464</td>\n",
       "      <td>0.693147</td>\n",
       "      <td>7.683010</td>\n",
       "      <td>1.098612</td>\n",
       "      <td>7.521045</td>\n",
       "      <td>7.664810</td>\n",
       "      <td>7.977530</td>\n",
       "    </tr>\n",
       "  </tbody>\n",
       "</table>\n",
       "</div>"
      ],
      "text/plain": [
       "   Proposed Use  Neighborhoods - Analysis Boundaries  Estimated Cost  \\\n",
       "0      7.584718                             7.457918        9.615872   \n",
       "1      7.735498                             7.711285        8.006701   \n",
       "2      7.549193                             7.612565       11.512935   \n",
       "3      7.621195                             7.630300        8.006701   \n",
       "4      7.621195                             7.785464        0.693147   \n",
       "\n",
       "   Supervisor District  Proposed Units  Number of Existing Stories  \\\n",
       "0             7.517967        0.000000                    7.669109   \n",
       "1             7.729651        0.693147                    7.669109   \n",
       "2             7.672804        1.609438                    7.669109   \n",
       "3             7.655607        1.098612                    7.594720   \n",
       "4             7.683010        1.098612                    7.521045   \n",
       "\n",
       "   Proposed Construction Type  Plansets  \n",
       "0                    7.530312  7.470098  \n",
       "1                    7.664810  7.470098  \n",
       "2                    7.664810  7.470098  \n",
       "3                    7.664810  7.470098  \n",
       "4                    7.664810  7.977530  "
      ]
     },
     "execution_count": 73,
     "metadata": {},
     "output_type": "execute_result"
    }
   ],
   "source": [
    "X_train_tree = pd.read_csv(X_train_tree_path)\n",
    "X_train_tree.head()"
   ]
  },
  {
   "cell_type": "code",
   "execution_count": 75,
   "id": "bc36530e-6ea9-4223-bff5-e4c061ebcad2",
   "metadata": {},
   "outputs": [
    {
     "data": {
      "text/html": [
       "<div>\n",
       "<style scoped>\n",
       "    .dataframe tbody tr th:only-of-type {\n",
       "        vertical-align: middle;\n",
       "    }\n",
       "\n",
       "    .dataframe tbody tr th {\n",
       "        vertical-align: top;\n",
       "    }\n",
       "\n",
       "    .dataframe thead th {\n",
       "        text-align: right;\n",
       "    }\n",
       "</style>\n",
       "<table border=\"1\" class=\"dataframe\">\n",
       "  <thead>\n",
       "    <tr style=\"text-align: right;\">\n",
       "      <th></th>\n",
       "      <th>Proposed Use</th>\n",
       "      <th>Neighborhoods - Analysis Boundaries</th>\n",
       "      <th>Estimated Cost</th>\n",
       "      <th>Supervisor District</th>\n",
       "      <th>Proposed Units</th>\n",
       "      <th>Number of Existing Stories</th>\n",
       "      <th>Proposed Construction Type</th>\n",
       "      <th>Plansets</th>\n",
       "    </tr>\n",
       "  </thead>\n",
       "  <tbody>\n",
       "    <tr>\n",
       "      <th>0</th>\n",
       "      <td>7.549193</td>\n",
       "      <td>7.749170</td>\n",
       "      <td>10.404293</td>\n",
       "      <td>7.645755</td>\n",
       "      <td>3.465736</td>\n",
       "      <td>7.521045</td>\n",
       "      <td>7.664810</td>\n",
       "      <td>7.977530</td>\n",
       "    </tr>\n",
       "    <tr>\n",
       "      <th>1</th>\n",
       "      <td>7.549193</td>\n",
       "      <td>7.319410</td>\n",
       "      <td>8.517393</td>\n",
       "      <td>7.683010</td>\n",
       "      <td>4.709530</td>\n",
       "      <td>7.655875</td>\n",
       "      <td>7.530312</td>\n",
       "      <td>7.470098</td>\n",
       "    </tr>\n",
       "    <tr>\n",
       "      <th>2</th>\n",
       "      <td>7.504362</td>\n",
       "      <td>7.660654</td>\n",
       "      <td>8.294300</td>\n",
       "      <td>7.655607</td>\n",
       "      <td>0.000000</td>\n",
       "      <td>7.669109</td>\n",
       "      <td>7.530312</td>\n",
       "      <td>7.470098</td>\n",
       "    </tr>\n",
       "    <tr>\n",
       "      <th>3</th>\n",
       "      <td>7.735498</td>\n",
       "      <td>7.618063</td>\n",
       "      <td>9.210440</td>\n",
       "      <td>7.672804</td>\n",
       "      <td>2.833213</td>\n",
       "      <td>7.546171</td>\n",
       "      <td>7.664810</td>\n",
       "      <td>7.470098</td>\n",
       "    </tr>\n",
       "    <tr>\n",
       "      <th>4</th>\n",
       "      <td>7.549193</td>\n",
       "      <td>7.618063</td>\n",
       "      <td>9.903538</td>\n",
       "      <td>7.683010</td>\n",
       "      <td>3.526361</td>\n",
       "      <td>7.594720</td>\n",
       "      <td>7.664810</td>\n",
       "      <td>7.470098</td>\n",
       "    </tr>\n",
       "  </tbody>\n",
       "</table>\n",
       "</div>"
      ],
      "text/plain": [
       "   Proposed Use  Neighborhoods - Analysis Boundaries  Estimated Cost  \\\n",
       "0      7.549193                             7.749170       10.404293   \n",
       "1      7.549193                             7.319410        8.517393   \n",
       "2      7.504362                             7.660654        8.294300   \n",
       "3      7.735498                             7.618063        9.210440   \n",
       "4      7.549193                             7.618063        9.903538   \n",
       "\n",
       "   Supervisor District  Proposed Units  Number of Existing Stories  \\\n",
       "0             7.645755        3.465736                    7.521045   \n",
       "1             7.683010        4.709530                    7.655875   \n",
       "2             7.655607        0.000000                    7.669109   \n",
       "3             7.672804        2.833213                    7.546171   \n",
       "4             7.683010        3.526361                    7.594720   \n",
       "\n",
       "   Proposed Construction Type  Plansets  \n",
       "0                    7.664810  7.977530  \n",
       "1                    7.530312  7.470098  \n",
       "2                    7.530312  7.470098  \n",
       "3                    7.664810  7.470098  \n",
       "4                    7.664810  7.470098  "
      ]
     },
     "execution_count": 75,
     "metadata": {},
     "output_type": "execute_result"
    }
   ],
   "source": [
    "X_test_tree = pd.read_csv(X_test_tree_path)\n",
    "X_test_tree.head()"
   ]
  },
  {
   "cell_type": "code",
   "execution_count": 77,
   "id": "3543dec0-6506-4b7b-a28f-995d1f522792",
   "metadata": {},
   "outputs": [
    {
     "data": {
      "text/html": [
       "<div>\n",
       "<style scoped>\n",
       "    .dataframe tbody tr th:only-of-type {\n",
       "        vertical-align: middle;\n",
       "    }\n",
       "\n",
       "    .dataframe tbody tr th {\n",
       "        vertical-align: top;\n",
       "    }\n",
       "\n",
       "    .dataframe thead th {\n",
       "        text-align: right;\n",
       "    }\n",
       "</style>\n",
       "<table border=\"1\" class=\"dataframe\">\n",
       "  <thead>\n",
       "    <tr style=\"text-align: right;\">\n",
       "      <th></th>\n",
       "      <th>Permit Type</th>\n",
       "    </tr>\n",
       "  </thead>\n",
       "  <tbody>\n",
       "    <tr>\n",
       "      <th>0</th>\n",
       "      <td>8</td>\n",
       "    </tr>\n",
       "    <tr>\n",
       "      <th>1</th>\n",
       "      <td>8</td>\n",
       "    </tr>\n",
       "    <tr>\n",
       "      <th>2</th>\n",
       "      <td>8</td>\n",
       "    </tr>\n",
       "    <tr>\n",
       "      <th>3</th>\n",
       "      <td>8</td>\n",
       "    </tr>\n",
       "    <tr>\n",
       "      <th>4</th>\n",
       "      <td>8</td>\n",
       "    </tr>\n",
       "  </tbody>\n",
       "</table>\n",
       "</div>"
      ],
      "text/plain": [
       "   Permit Type\n",
       "0            8\n",
       "1            8\n",
       "2            8\n",
       "3            8\n",
       "4            8"
      ]
     },
     "execution_count": 77,
     "metadata": {},
     "output_type": "execute_result"
    }
   ],
   "source": [
    "y_train_tree = pd.read_csv(y_train_tree_path)\n",
    "y_train_tree.head()"
   ]
  },
  {
   "cell_type": "code",
   "execution_count": 79,
   "id": "86f272e3-67ca-41d4-9bb2-20b296162c1e",
   "metadata": {},
   "outputs": [
    {
     "data": {
      "text/html": [
       "<div>\n",
       "<style scoped>\n",
       "    .dataframe tbody tr th:only-of-type {\n",
       "        vertical-align: middle;\n",
       "    }\n",
       "\n",
       "    .dataframe tbody tr th {\n",
       "        vertical-align: top;\n",
       "    }\n",
       "\n",
       "    .dataframe thead th {\n",
       "        text-align: right;\n",
       "    }\n",
       "</style>\n",
       "<table border=\"1\" class=\"dataframe\">\n",
       "  <thead>\n",
       "    <tr style=\"text-align: right;\">\n",
       "      <th></th>\n",
       "      <th>Permit Type</th>\n",
       "    </tr>\n",
       "  </thead>\n",
       "  <tbody>\n",
       "    <tr>\n",
       "      <th>0</th>\n",
       "      <td>8</td>\n",
       "    </tr>\n",
       "    <tr>\n",
       "      <th>1</th>\n",
       "      <td>8</td>\n",
       "    </tr>\n",
       "    <tr>\n",
       "      <th>2</th>\n",
       "      <td>8</td>\n",
       "    </tr>\n",
       "    <tr>\n",
       "      <th>3</th>\n",
       "      <td>4</td>\n",
       "    </tr>\n",
       "    <tr>\n",
       "      <th>4</th>\n",
       "      <td>8</td>\n",
       "    </tr>\n",
       "  </tbody>\n",
       "</table>\n",
       "</div>"
      ],
      "text/plain": [
       "   Permit Type\n",
       "0            8\n",
       "1            8\n",
       "2            8\n",
       "3            4\n",
       "4            8"
      ]
     },
     "execution_count": 79,
     "metadata": {},
     "output_type": "execute_result"
    }
   ],
   "source": [
    "y_test_tree = pd.read_csv(y_test_tree_path)\n",
    "y_test_tree.head()"
   ]
  },
  {
   "cell_type": "markdown",
   "id": "6990a669-e0c2-475b-a6a2-44c815e45e0f",
   "metadata": {},
   "source": [
    "## 3.2. Hyperparameter tuning:"
   ]
  },
  {
   "cell_type": "markdown",
   "id": "f205124f-63a1-4626-8a77-4f83c7d754e0",
   "metadata": {},
   "source": [
    "## 3.2.1. Randomized search:"
   ]
  },
  {
   "cell_type": "code",
   "execution_count": 83,
   "id": "478cb3a3-0fe4-4c75-80f9-553538e8674c",
   "metadata": {},
   "outputs": [
    {
     "name": "stdout",
     "output_type": "stream",
     "text": [
      "Fitting 3 folds for each of 10 candidates, totalling 30 fits\n"
     ]
    },
    {
     "data": {
      "text/html": [
       "<style>#sk-container-id-2 {color: black;}#sk-container-id-2 pre{padding: 0;}#sk-container-id-2 div.sk-toggleable {background-color: white;}#sk-container-id-2 label.sk-toggleable__label {cursor: pointer;display: block;width: 100%;margin-bottom: 0;padding: 0.3em;box-sizing: border-box;text-align: center;}#sk-container-id-2 label.sk-toggleable__label-arrow:before {content: \"▸\";float: left;margin-right: 0.25em;color: #696969;}#sk-container-id-2 label.sk-toggleable__label-arrow:hover:before {color: black;}#sk-container-id-2 div.sk-estimator:hover label.sk-toggleable__label-arrow:before {color: black;}#sk-container-id-2 div.sk-toggleable__content {max-height: 0;max-width: 0;overflow: hidden;text-align: left;background-color: #f0f8ff;}#sk-container-id-2 div.sk-toggleable__content pre {margin: 0.2em;color: black;border-radius: 0.25em;background-color: #f0f8ff;}#sk-container-id-2 input.sk-toggleable__control:checked~div.sk-toggleable__content {max-height: 200px;max-width: 100%;overflow: auto;}#sk-container-id-2 input.sk-toggleable__control:checked~label.sk-toggleable__label-arrow:before {content: \"▾\";}#sk-container-id-2 div.sk-estimator input.sk-toggleable__control:checked~label.sk-toggleable__label {background-color: #d4ebff;}#sk-container-id-2 div.sk-label input.sk-toggleable__control:checked~label.sk-toggleable__label {background-color: #d4ebff;}#sk-container-id-2 input.sk-hidden--visually {border: 0;clip: rect(1px 1px 1px 1px);clip: rect(1px, 1px, 1px, 1px);height: 1px;margin: -1px;overflow: hidden;padding: 0;position: absolute;width: 1px;}#sk-container-id-2 div.sk-estimator {font-family: monospace;background-color: #f0f8ff;border: 1px dotted black;border-radius: 0.25em;box-sizing: border-box;margin-bottom: 0.5em;}#sk-container-id-2 div.sk-estimator:hover {background-color: #d4ebff;}#sk-container-id-2 div.sk-parallel-item::after {content: \"\";width: 100%;border-bottom: 1px solid gray;flex-grow: 1;}#sk-container-id-2 div.sk-label:hover label.sk-toggleable__label {background-color: #d4ebff;}#sk-container-id-2 div.sk-serial::before {content: \"\";position: absolute;border-left: 1px solid gray;box-sizing: border-box;top: 0;bottom: 0;left: 50%;z-index: 0;}#sk-container-id-2 div.sk-serial {display: flex;flex-direction: column;align-items: center;background-color: white;padding-right: 0.2em;padding-left: 0.2em;position: relative;}#sk-container-id-2 div.sk-item {position: relative;z-index: 1;}#sk-container-id-2 div.sk-parallel {display: flex;align-items: stretch;justify-content: center;background-color: white;position: relative;}#sk-container-id-2 div.sk-item::before, #sk-container-id-2 div.sk-parallel-item::before {content: \"\";position: absolute;border-left: 1px solid gray;box-sizing: border-box;top: 0;bottom: 0;left: 50%;z-index: -1;}#sk-container-id-2 div.sk-parallel-item {display: flex;flex-direction: column;z-index: 1;position: relative;background-color: white;}#sk-container-id-2 div.sk-parallel-item:first-child::after {align-self: flex-end;width: 50%;}#sk-container-id-2 div.sk-parallel-item:last-child::after {align-self: flex-start;width: 50%;}#sk-container-id-2 div.sk-parallel-item:only-child::after {width: 0;}#sk-container-id-2 div.sk-dashed-wrapped {border: 1px dashed gray;margin: 0 0.4em 0.5em 0.4em;box-sizing: border-box;padding-bottom: 0.4em;background-color: white;}#sk-container-id-2 div.sk-label label {font-family: monospace;font-weight: bold;display: inline-block;line-height: 1.2em;}#sk-container-id-2 div.sk-label-container {text-align: center;}#sk-container-id-2 div.sk-container {/* jupyter's `normalize.less` sets `[hidden] { display: none; }` but bootstrap.min.css set `[hidden] { display: none !important; }` so we also need the `!important` here to be able to override the default hidden behavior on the sphinx rendered scikit-learn.org. See: https://github.com/scikit-learn/scikit-learn/issues/21755 */display: inline-block !important;position: relative;}#sk-container-id-2 div.sk-text-repr-fallback {display: none;}</style><div id=\"sk-container-id-2\" class=\"sk-top-container\"><div class=\"sk-text-repr-fallback\"><pre>RandomizedSearchCV(cv=3, estimator=RandomForestClassifier(random_state=42),\n",
       "                   n_jobs=-1,\n",
       "                   param_distributions={&#x27;bootstrap&#x27;: [True, False],\n",
       "                                        &#x27;class_weight&#x27;: [&#x27;balanced&#x27;,\n",
       "                                                         &#x27;balanced_subsample&#x27;],\n",
       "                                        &#x27;criterion&#x27;: [&#x27;gini&#x27;, &#x27;entropy&#x27;],\n",
       "                                        &#x27;max_depth&#x27;: [10, 20, 40, 60, None],\n",
       "                                        &#x27;max_features&#x27;: [&#x27;sqrt&#x27;, &#x27;log2&#x27;, None],\n",
       "                                        &#x27;min_samples_leaf&#x27;: [1, 2, 4],\n",
       "                                        &#x27;min_samples_split&#x27;: [2, 5, 10],\n",
       "                                        &#x27;n_estimators&#x27;: [100, 200, 300, 400,\n",
       "                                                         500, 700]},\n",
       "                   random_state=42, scoring=&#x27;f1_macro&#x27;, verbose=2)</pre><b>In a Jupyter environment, please rerun this cell to show the HTML representation or trust the notebook. <br />On GitHub, the HTML representation is unable to render, please try loading this page with nbviewer.org.</b></div><div class=\"sk-container\" hidden><div class=\"sk-item sk-dashed-wrapped\"><div class=\"sk-label-container\"><div class=\"sk-label sk-toggleable\"><input class=\"sk-toggleable__control sk-hidden--visually\" id=\"sk-estimator-id-4\" type=\"checkbox\" ><label for=\"sk-estimator-id-4\" class=\"sk-toggleable__label sk-toggleable__label-arrow\">RandomizedSearchCV</label><div class=\"sk-toggleable__content\"><pre>RandomizedSearchCV(cv=3, estimator=RandomForestClassifier(random_state=42),\n",
       "                   n_jobs=-1,\n",
       "                   param_distributions={&#x27;bootstrap&#x27;: [True, False],\n",
       "                                        &#x27;class_weight&#x27;: [&#x27;balanced&#x27;,\n",
       "                                                         &#x27;balanced_subsample&#x27;],\n",
       "                                        &#x27;criterion&#x27;: [&#x27;gini&#x27;, &#x27;entropy&#x27;],\n",
       "                                        &#x27;max_depth&#x27;: [10, 20, 40, 60, None],\n",
       "                                        &#x27;max_features&#x27;: [&#x27;sqrt&#x27;, &#x27;log2&#x27;, None],\n",
       "                                        &#x27;min_samples_leaf&#x27;: [1, 2, 4],\n",
       "                                        &#x27;min_samples_split&#x27;: [2, 5, 10],\n",
       "                                        &#x27;n_estimators&#x27;: [100, 200, 300, 400,\n",
       "                                                         500, 700]},\n",
       "                   random_state=42, scoring=&#x27;f1_macro&#x27;, verbose=2)</pre></div></div></div><div class=\"sk-parallel\"><div class=\"sk-parallel-item\"><div class=\"sk-item\"><div class=\"sk-label-container\"><div class=\"sk-label sk-toggleable\"><input class=\"sk-toggleable__control sk-hidden--visually\" id=\"sk-estimator-id-5\" type=\"checkbox\" ><label for=\"sk-estimator-id-5\" class=\"sk-toggleable__label sk-toggleable__label-arrow\">estimator: RandomForestClassifier</label><div class=\"sk-toggleable__content\"><pre>RandomForestClassifier(random_state=42)</pre></div></div></div><div class=\"sk-serial\"><div class=\"sk-item\"><div class=\"sk-estimator sk-toggleable\"><input class=\"sk-toggleable__control sk-hidden--visually\" id=\"sk-estimator-id-6\" type=\"checkbox\" ><label for=\"sk-estimator-id-6\" class=\"sk-toggleable__label sk-toggleable__label-arrow\">RandomForestClassifier</label><div class=\"sk-toggleable__content\"><pre>RandomForestClassifier(random_state=42)</pre></div></div></div></div></div></div></div></div></div></div>"
      ],
      "text/plain": [
       "RandomizedSearchCV(cv=3, estimator=RandomForestClassifier(random_state=42),\n",
       "                   n_jobs=-1,\n",
       "                   param_distributions={'bootstrap': [True, False],\n",
       "                                        'class_weight': ['balanced',\n",
       "                                                         'balanced_subsample'],\n",
       "                                        'criterion': ['gini', 'entropy'],\n",
       "                                        'max_depth': [10, 20, 40, 60, None],\n",
       "                                        'max_features': ['sqrt', 'log2', None],\n",
       "                                        'min_samples_leaf': [1, 2, 4],\n",
       "                                        'min_samples_split': [2, 5, 10],\n",
       "                                        'n_estimators': [100, 200, 300, 400,\n",
       "                                                         500, 700]},\n",
       "                   random_state=42, scoring='f1_macro', verbose=2)"
      ]
     },
     "execution_count": 83,
     "metadata": {},
     "output_type": "execute_result"
    }
   ],
   "source": [
    "# hyperparameters to tune:\n",
    "param_dist_tree = {\n",
    "    \"n_estimators\":[100, 200, 300, 400, 500, 700],\n",
    "    \"criterion\":[\"gini\", \"entropy\"],\n",
    "    \"max_depth\":[10, 20, 40, 60, None],\n",
    "    \"min_samples_split\":[2, 5, 10],\n",
    "    \"min_samples_leaf\":[1,2,4],\n",
    "    \"max_features\":[\"sqrt\", \"log2\", None],\n",
    "    \"bootstrap\":[True, False],\n",
    "    \"class_weight\": [\"balanced\", \"balanced_subsample\"]\n",
    "}\n",
    "\n",
    "# random forest model:\n",
    "rf_rgs = RandomForestClassifier(random_state=42)\n",
    "\n",
    "#Randomized search:\n",
    "rs_tree = RandomizedSearchCV(\n",
    "    estimator=rf_rgs,\n",
    "    param_distributions=param_dist_tree,\n",
    "    cv=3,\n",
    "    scoring=\"f1_macro\",\n",
    "    random_state=42,\n",
    "    verbose=2,\n",
    "    n_jobs=-1\n",
    ")\n",
    "\n",
    "rs_tree.fit(X_train_tree, y_train_tree)\n",
    "    "
   ]
  },
  {
   "cell_type": "code",
   "execution_count": 85,
   "id": "2010ae89-0256-4170-b6cf-fbdb30971e26",
   "metadata": {},
   "outputs": [
    {
     "name": "stdout",
     "output_type": "stream",
     "text": [
      "Best parameters: {'n_estimators': 300, 'min_samples_split': 10, 'min_samples_leaf': 1, 'max_features': 'sqrt', 'max_depth': None, 'criterion': 'entropy', 'class_weight': 'balanced_subsample', 'bootstrap': True}\n",
      "Best score: 0.8357801312980278\n"
     ]
    }
   ],
   "source": [
    "print(f\"Best parameters: {rs_tree.best_params_}\")\n",
    "print(f\"Best score: {rs_tree.best_score_}\")"
   ]
  },
  {
   "cell_type": "code",
   "execution_count": 87,
   "id": "e38ec08b-f556-41fe-81e8-bf727449eb09",
   "metadata": {},
   "outputs": [],
   "source": [
    "y_pred_tree_rgs = rs_tree.predict(X_test_tree)"
   ]
  },
  {
   "cell_type": "markdown",
   "id": "b4050e2d-114c-40a5-94c7-b655a38d9846",
   "metadata": {},
   "source": [
    "## 3.2.2 Bayesian optimization:"
   ]
  },
  {
   "cell_type": "code",
   "execution_count": 89,
   "id": "78f7dc70-bdc6-4db1-8d38-3666ad78f70d",
   "metadata": {},
   "outputs": [],
   "source": [
    "CRITERIONS = [\"gini\", \"entropy\"]\n",
    "MAX_FEATURES = [\"sqrt\", \"log2\"]\n",
    "CLASS_WEIGHTS = [\"balanced\", \"balanced_subsample\"]\n",
    "BOOTSTRAP = [True, False]"
   ]
  },
  {
   "cell_type": "code",
   "execution_count": 92,
   "id": "b67d0c8e-93f4-43ae-a459-d742a073a0c3",
   "metadata": {},
   "outputs": [],
   "source": [
    "# step1: function\n",
    "def rf_optimization(\n",
    "    n_estimators, max_depth, min_samples_split,min_samples_leaf, \n",
    "    criterion_val, max_features_val, bootstrap_val, class_weight_val\n",
    "):\n",
    "    \"\"\"\n",
    "    Accept hyperparameters:\n",
    "        - n_estimators\n",
    "        - criterion\n",
    "        - max_depth\n",
    "        - min_samples_split\n",
    "        - min_samples_leaf\n",
    "        - max_features\n",
    "        - bootstrap\n",
    "        - class_weight\n",
    "    Trains a RandomForest model\n",
    "    Evaluates it with cross validation.\n",
    "    Returns a F1_macro score\n",
    "    \"\"\"\n",
    "\n",
    "    # use of int() to avoid unexpected error if optimizer tries float values.\n",
    "    rf_model = RandomForestClassifier(\n",
    "        n_estimators=int(n_estimators),\n",
    "        max_depth=int(max_depth),\n",
    "        min_samples_split=int(min_samples_split),\n",
    "        min_samples_leaf=int(min_samples_leaf),\n",
    "        bootstrap=BOOTSTRAP[int(bootstrap_val)],\n",
    "        criterion=CRITERIONS[int(criterion_val)],                 \n",
    "        max_features=MAX_FEATURES[int(max_features_val)],                \n",
    "        class_weight=CLASS_WEIGHTS[int(class_weight_val)],\n",
    "        random_state=42,\n",
    "        n_jobs=-1\n",
    "    )\n",
    "\n",
    "    rf_model_CV = cross_val_score(\n",
    "        estimator=rf_model, \n",
    "        X=X_train_tree, \n",
    "        y=y_train_tree, \n",
    "        scoring=\"f1_macro\", \n",
    "        cv=3,  \n",
    "        verbose=2)\n",
    "    \n",
    "    return rf_model_CV.mean()"
   ]
  },
  {
   "cell_type": "code",
   "execution_count": 94,
   "id": "4bdeb088-93d6-44cc-ba85-8a6d11010f02",
   "metadata": {},
   "outputs": [],
   "source": [
    "# step2: optimizer\n",
    "\n",
    "#bounds:\n",
    "\n",
    "bounds_tree = {\n",
    "    \"n_estimators\":(100, 200, 300, 400, 500, 700),\n",
    "    \"max_depth\":(10, 20, 40, 60),\n",
    "    \"min_samples_split\":(2, 5, 10),\n",
    "    \"min_samples_leaf\":(1,2,4),\n",
    "    \"bootstrap_val\":(0, 1),\n",
    "    \"criterion_val\":(0, 1),\n",
    "    \"max_features_val\":(0, 1),\n",
    "    \"class_weight_val\": (0, 1)\n",
    "}\n",
    "\n",
    "optimizer_tree = BayesianOptimization(\n",
    "    f=rf_optimization,\n",
    "    pbounds=bounds_tree,\n",
    "    random_state=42,\n",
    "    verbose=2\n",
    ") "
   ]
  },
  {
   "cell_type": "code",
   "execution_count": 96,
   "id": "654a637b-c947-4528-ab48-195b08b8ac36",
   "metadata": {},
   "outputs": [
    {
     "name": "stdout",
     "output_type": "stream",
     "text": [
      "|   iter    |  target   | n_esti... | max_depth | min_sa... | min_sa... | bootst... | criter... | max_fe... | class_... |\n",
      "-------------------------------------------------------------------------------------------------------------------------\n",
      "[CV] END .................................................... total time=   4.3s\n",
      "[CV] END .................................................... total time=   4.1s\n",
      "[CV] END .................................................... total time=   4.1s\n",
      "| \u001b[39m1        \u001b[39m | \u001b[39m0.7096519\u001b[39m | \u001b[39m400      \u001b[39m | \u001b[39m10       \u001b[39m | \u001b[39m10       \u001b[39m | \u001b[39m4        \u001b[39m | \u001b[39m0.7796910\u001b[39m | \u001b[39m0.5968501\u001b[39m | \u001b[39m0.4458327\u001b[39m | \u001b[39m0.0999749\u001b[39m |\n"
     ]
    },
    {
     "name": "stderr",
     "output_type": "stream",
     "text": [
      "[Parallel(n_jobs=1)]: Done   3 out of   3 | elapsed:   12.7s finished\n"
     ]
    },
    {
     "name": "stdout",
     "output_type": "stream",
     "text": [
      "[CV] END .................................................... total time=   4.1s\n",
      "[CV] END .................................................... total time=   4.0s\n",
      "[CV] END .................................................... total time=   4.0s\n",
      "| \u001b[35m2        \u001b[39m | \u001b[35m0.7590330\u001b[39m | \u001b[35m300      \u001b[39m | \u001b[35m60       \u001b[39m | \u001b[35m2        \u001b[39m | \u001b[35m4        \u001b[39m | \u001b[35m0.0205844\u001b[39m | \u001b[35m0.9699098\u001b[39m | \u001b[35m0.8324426\u001b[39m | \u001b[35m0.2123391\u001b[39m |\n"
     ]
    },
    {
     "name": "stderr",
     "output_type": "stream",
     "text": [
      "[Parallel(n_jobs=1)]: Done   3 out of   3 | elapsed:   12.4s finished\n"
     ]
    },
    {
     "name": "stdout",
     "output_type": "stream",
     "text": [
      "[CV] END .................................................... total time=   4.1s\n",
      "[CV] END .................................................... total time=   4.0s\n",
      "[CV] END .................................................... total time=   4.1s\n",
      "| \u001b[39m3        \u001b[39m | \u001b[39m0.7329409\u001b[39m | \u001b[39m400      \u001b[39m | \u001b[39m10       \u001b[39m | \u001b[39m2        \u001b[39m | \u001b[39m2        \u001b[39m | \u001b[39m0.5247564\u001b[39m | \u001b[39m0.4319450\u001b[39m | \u001b[39m0.2912291\u001b[39m | \u001b[39m0.6118528\u001b[39m |\n"
     ]
    },
    {
     "name": "stderr",
     "output_type": "stream",
     "text": [
      "[Parallel(n_jobs=1)]: Done   3 out of   3 | elapsed:   12.4s finished\n"
     ]
    },
    {
     "name": "stdout",
     "output_type": "stream",
     "text": [
      "[CV] END .................................................... total time=   2.8s\n",
      "[CV] END .................................................... total time=   2.8s\n",
      "[CV] END .................................................... total time=   2.9s\n",
      "| \u001b[35m4        \u001b[39m | \u001b[35m0.8301307\u001b[39m | \u001b[35m200      \u001b[39m | \u001b[35m60       \u001b[39m | \u001b[35m10       \u001b[39m | \u001b[35m2        \u001b[39m | \u001b[35m0.0906064\u001b[39m | \u001b[35m0.6183860\u001b[39m | \u001b[35m0.3824619\u001b[39m | \u001b[35m0.9832308\u001b[39m |\n"
     ]
    },
    {
     "name": "stderr",
     "output_type": "stream",
     "text": [
      "[Parallel(n_jobs=1)]: Done   3 out of   3 | elapsed:    8.7s finished\n"
     ]
    },
    {
     "name": "stdout",
     "output_type": "stream",
     "text": [
      "[CV] END .................................................... total time=   1.4s\n",
      "[CV] END .................................................... total time=   1.4s\n",
      "[CV] END .................................................... total time=   1.5s\n",
      "| \u001b[39m5        \u001b[39m | \u001b[39m0.7585685\u001b[39m | \u001b[39m100      \u001b[39m | \u001b[39m40       \u001b[39m | \u001b[39m2        \u001b[39m | \u001b[39m4        \u001b[39m | \u001b[39m0.6803075\u001b[39m | \u001b[39m0.4504992\u001b[39m | \u001b[39m0.0132649\u001b[39m | \u001b[39m0.9422017\u001b[39m |\n"
     ]
    },
    {
     "name": "stderr",
     "output_type": "stream",
     "text": [
      "[Parallel(n_jobs=1)]: Done   3 out of   3 | elapsed:    4.5s finished\n"
     ]
    },
    {
     "name": "stdout",
     "output_type": "stream",
     "text": [
      "[CV] END .................................................... total time=   6.9s\n",
      "[CV] END .................................................... total time=   6.8s\n",
      "[CV] END .................................................... total time=   6.8s\n",
      "| \u001b[35m6        \u001b[39m | \u001b[35m0.8375379\u001b[39m | \u001b[35m400      \u001b[39m | \u001b[35m40       \u001b[39m | \u001b[35m2        \u001b[39m | \u001b[35m1        \u001b[39m | \u001b[35m0.1173427\u001b[39m | \u001b[35m0.1692281\u001b[39m | \u001b[35m0.9182114\u001b[39m | \u001b[35m0.6448633\u001b[39m |\n"
     ]
    },
    {
     "name": "stderr",
     "output_type": "stream",
     "text": [
      "[Parallel(n_jobs=1)]: Done   3 out of   3 | elapsed:   20.9s finished\n"
     ]
    },
    {
     "name": "stdout",
     "output_type": "stream",
     "text": [
      "[CV] END .................................................... total time=   5.1s\n",
      "[CV] END .................................................... total time=   5.3s\n",
      "[CV] END .................................................... total time=   5.3s\n",
      "| \u001b[39m7        \u001b[39m | \u001b[39m0.7309382\u001b[39m | \u001b[39m500      \u001b[39m | \u001b[39m10       \u001b[39m | \u001b[39m2        \u001b[39m | \u001b[39m2        \u001b[39m | \u001b[39m0.7627479\u001b[39m | \u001b[39m0.9785317\u001b[39m | \u001b[39m0.3216802\u001b[39m | \u001b[39m0.6083699\u001b[39m |\n"
     ]
    },
    {
     "name": "stderr",
     "output_type": "stream",
     "text": [
      "[Parallel(n_jobs=1)]: Done   3 out of   3 | elapsed:   15.9s finished\n"
     ]
    },
    {
     "name": "stdout",
     "output_type": "stream",
     "text": [
      "[CV] END .................................................... total time=  10.7s\n",
      "[CV] END .................................................... total time=  10.3s\n",
      "[CV] END .................................................... total time=  10.6s\n",
      "| \u001b[39m8        \u001b[39m | \u001b[39m0.8365520\u001b[39m | \u001b[39m700      \u001b[39m | \u001b[39m40       \u001b[39m | \u001b[39m5        \u001b[39m | \u001b[39m2        \u001b[39m | \u001b[39m0.0138940\u001b[39m | \u001b[39m0.2870047\u001b[39m | \u001b[39m0.9184604\u001b[39m | \u001b[39m0.9862787\u001b[39m |\n"
     ]
    },
    {
     "name": "stderr",
     "output_type": "stream",
     "text": [
      "[Parallel(n_jobs=1)]: Done   3 out of   3 | elapsed:   32.1s finished\n"
     ]
    },
    {
     "name": "stdout",
     "output_type": "stream",
     "text": [
      "[CV] END .................................................... total time=   5.5s\n",
      "[CV] END .................................................... total time=   5.3s\n",
      "[CV] END .................................................... total time=   5.5s\n",
      "| \u001b[39m9        \u001b[39m | \u001b[39m0.7309382\u001b[39m | \u001b[39m500      \u001b[39m | \u001b[39m10       \u001b[39m | \u001b[39m2        \u001b[39m | \u001b[39m2        \u001b[39m | \u001b[39m0.0228147\u001b[39m | \u001b[39m0.1589931\u001b[39m | \u001b[39m0.8807300\u001b[39m | \u001b[39m0.9887283\u001b[39m |\n"
     ]
    },
    {
     "name": "stderr",
     "output_type": "stream",
     "text": [
      "[Parallel(n_jobs=1)]: Done   3 out of   3 | elapsed:   16.5s finished\n"
     ]
    },
    {
     "name": "stdout",
     "output_type": "stream",
     "text": [
      "[CV] END .................................................... total time=   1.1s\n",
      "[CV] END .................................................... total time=   1.2s\n",
      "[CV] END .................................................... total time=   1.2s\n",
      "| \u001b[39m10       \u001b[39m | \u001b[39m0.7207811\u001b[39m | \u001b[39m100      \u001b[39m | \u001b[39m10       \u001b[39m | \u001b[39m10       \u001b[39m | \u001b[39m2        \u001b[39m | \u001b[39m0.0873808\u001b[39m | \u001b[39m0.4367542\u001b[39m | \u001b[39m0.1654560\u001b[39m | \u001b[39m0.8818007\u001b[39m |\n"
     ]
    },
    {
     "name": "stderr",
     "output_type": "stream",
     "text": [
      "[Parallel(n_jobs=1)]: Done   3 out of   3 | elapsed:    3.7s finished\n"
     ]
    },
    {
     "name": "stdout",
     "output_type": "stream",
     "text": [
      "[CV] END .................................................... total time=   2.2s\n",
      "[CV] END .................................................... total time=   2.2s\n",
      "[CV] END .................................................... total time=   2.1s\n",
      "| \u001b[39m11       \u001b[39m | \u001b[39m0.7104696\u001b[39m | \u001b[39m200      \u001b[39m | \u001b[39m10       \u001b[39m | \u001b[39m5        \u001b[39m | \u001b[39m4        \u001b[39m | \u001b[39m0.9962657\u001b[39m | \u001b[39m0.1204350\u001b[39m | \u001b[39m0.1693050\u001b[39m | \u001b[39m0.0956514\u001b[39m |\n"
     ]
    },
    {
     "name": "stderr",
     "output_type": "stream",
     "text": [
      "[Parallel(n_jobs=1)]: Done   3 out of   3 | elapsed:    6.7s finished\n"
     ]
    },
    {
     "name": "stdout",
     "output_type": "stream",
     "text": [
      "[CV] END .................................................... total time=   3.2s\n",
      "[CV] END .................................................... total time=   3.3s\n",
      "[CV] END .................................................... total time=   3.2s\n",
      "| \u001b[39m12       \u001b[39m | \u001b[39m0.7585094\u001b[39m | \u001b[39m300      \u001b[39m | \u001b[39m10       \u001b[39m | \u001b[39m5        \u001b[39m | \u001b[39m1        \u001b[39m | \u001b[39m0.1701721\u001b[39m | \u001b[39m0.1779619\u001b[39m | \u001b[39m0.5203761\u001b[39m | \u001b[39m0.7674314\u001b[39m |\n"
     ]
    },
    {
     "name": "stderr",
     "output_type": "stream",
     "text": [
      "[Parallel(n_jobs=1)]: Done   3 out of   3 | elapsed:    9.9s finished\n"
     ]
    },
    {
     "name": "stdout",
     "output_type": "stream",
     "text": [
      "[CV] END .................................................... total time=   1.1s\n",
      "[CV] END .................................................... total time=   1.1s\n",
      "[CV] END .................................................... total time=   1.1s\n",
      "| \u001b[39m13       \u001b[39m | \u001b[39m0.6979183\u001b[39m | \u001b[39m100      \u001b[39m | \u001b[39m10       \u001b[39m | \u001b[39m5        \u001b[39m | \u001b[39m2        \u001b[39m | \u001b[39m0.2552725\u001b[39m | \u001b[39m0.4424219\u001b[39m | \u001b[39m0.0540991\u001b[39m | \u001b[39m0.8822306\u001b[39m |\n"
     ]
    },
    {
     "name": "stderr",
     "output_type": "stream",
     "text": [
      "[Parallel(n_jobs=1)]: Done   3 out of   3 | elapsed:    3.5s finished\n"
     ]
    },
    {
     "name": "stdout",
     "output_type": "stream",
     "text": [
      "[CV] END .................................................... total time=  10.3s\n",
      "[CV] END .................................................... total time=  10.1s\n",
      "[CV] END .................................................... total time=   9.6s\n",
      "| \u001b[39m14       \u001b[39m | \u001b[39m0.7539594\u001b[39m | \u001b[39m700      \u001b[39m | \u001b[39m40       \u001b[39m | \u001b[39m10       \u001b[39m | \u001b[39m4        \u001b[39m | \u001b[39m0.1095236\u001b[39m | \u001b[39m0.6033059\u001b[39m | \u001b[39m0.1361108\u001b[39m | \u001b[39m0.9200250\u001b[39m |\n"
     ]
    },
    {
     "name": "stderr",
     "output_type": "stream",
     "text": [
      "[Parallel(n_jobs=1)]: Done   3 out of   3 | elapsed:   30.4s finished\n"
     ]
    },
    {
     "name": "stdout",
     "output_type": "stream",
     "text": [
      "[CV] END .................................................... total time=   9.7s\n",
      "[CV] END .................................................... total time=   9.6s\n",
      "[CV] END .................................................... total time=   9.9s\n",
      "| \u001b[39m15       \u001b[39m | \u001b[39m0.7578697\u001b[39m | \u001b[39m700      \u001b[39m | \u001b[39m60       \u001b[39m | \u001b[39m5        \u001b[39m | \u001b[39m4        \u001b[39m | \u001b[39m0.0190470\u001b[39m | \u001b[39m0.6246719\u001b[39m | \u001b[39m0.1085655\u001b[39m | \u001b[39m0.7552004\u001b[39m |\n"
     ]
    },
    {
     "name": "stderr",
     "output_type": "stream",
     "text": [
      "[Parallel(n_jobs=1)]: Done   3 out of   3 | elapsed:   29.6s finished\n"
     ]
    },
    {
     "name": "stdout",
     "output_type": "stream",
     "text": [
      "[CV] END .................................................... total time=   4.2s\n",
      "[CV] END .................................................... total time=   4.3s\n",
      "[CV] END .................................................... total time=   4.3s\n",
      "| \u001b[39m16       \u001b[39m | \u001b[39m0.7511664\u001b[39m | \u001b[39m300      \u001b[39m | \u001b[39m20       \u001b[39m | \u001b[39m5        \u001b[39m | \u001b[39m4        \u001b[39m | \u001b[39m0.4177706\u001b[39m | \u001b[39m0.6428079\u001b[39m | \u001b[39m0.3096700\u001b[39m | \u001b[39m0.0053671\u001b[39m |\n"
     ]
    },
    {
     "name": "stderr",
     "output_type": "stream",
     "text": [
      "[Parallel(n_jobs=1)]: Done   3 out of   3 | elapsed:   13.1s finished\n"
     ]
    },
    {
     "name": "stdout",
     "output_type": "stream",
     "text": [
      "[CV] END .................................................... total time=   2.9s\n",
      "[CV] END .................................................... total time=   2.9s\n",
      "[CV] END .................................................... total time=   2.9s\n",
      "| \u001b[39m17       \u001b[39m | \u001b[39m0.8293453\u001b[39m | \u001b[39m200      \u001b[39m | \u001b[39m20       \u001b[39m | \u001b[39m10       \u001b[39m | \u001b[39m1        \u001b[39m | \u001b[39m0.9540240\u001b[39m | \u001b[39m0.1517684\u001b[39m | \u001b[39m0.2133944\u001b[39m | \u001b[39m0.1236390\u001b[39m |\n"
     ]
    },
    {
     "name": "stderr",
     "output_type": "stream",
     "text": [
      "[Parallel(n_jobs=1)]: Done   3 out of   3 | elapsed:    8.9s finished\n"
     ]
    },
    {
     "name": "stdout",
     "output_type": "stream",
     "text": [
      "[CV] END .................................................... total time=  11.5s\n",
      "[CV] END .................................................... total time=  11.0s\n",
      "[CV] END .................................................... total time=  11.5s\n",
      "| \u001b[39m18       \u001b[39m | \u001b[39m0.8332675\u001b[39m | \u001b[39m700      \u001b[39m | \u001b[39m20       \u001b[39m | \u001b[39m2        \u001b[39m | \u001b[39m1        \u001b[39m | \u001b[39m0.0978536\u001b[39m | \u001b[39m0.7138564\u001b[39m | \u001b[39m0.7043076\u001b[39m | \u001b[39m0.0593904\u001b[39m |\n"
     ]
    },
    {
     "name": "stderr",
     "output_type": "stream",
     "text": [
      "[Parallel(n_jobs=1)]: Done   3 out of   3 | elapsed:   34.4s finished\n"
     ]
    },
    {
     "name": "stdout",
     "output_type": "stream",
     "text": [
      "[CV] END .................................................... total time=   5.1s\n",
      "[CV] END .................................................... total time=   5.2s\n",
      "[CV] END .................................................... total time=   5.4s\n",
      "| \u001b[39m19       \u001b[39m | \u001b[39m0.7270416\u001b[39m | \u001b[39m500      \u001b[39m | \u001b[39m10       \u001b[39m | \u001b[39m5        \u001b[39m | \u001b[39m2        \u001b[39m | \u001b[39m0.8841763\u001b[39m | \u001b[39m0.4253449\u001b[39m | \u001b[39m0.9447239\u001b[39m | \u001b[39m0.6682608\u001b[39m |\n"
     ]
    },
    {
     "name": "stderr",
     "output_type": "stream",
     "text": [
      "[Parallel(n_jobs=1)]: Done   3 out of   3 | elapsed:   15.9s finished\n"
     ]
    },
    {
     "name": "stdout",
     "output_type": "stream",
     "text": [
      "[CV] END .................................................... total time=   3.2s\n",
      "[CV] END .................................................... total time=   3.2s\n",
      "[CV] END .................................................... total time=   3.1s\n",
      "| \u001b[39m20       \u001b[39m | \u001b[39m0.8374562\u001b[39m | \u001b[39m200      \u001b[39m | \u001b[39m40       \u001b[39m | \u001b[39m2        \u001b[39m | \u001b[39m2        \u001b[39m | \u001b[39m0.2685844\u001b[39m | \u001b[39m0.4666052\u001b[39m | \u001b[39m0.9124408\u001b[39m | \u001b[39m0.2538973\u001b[39m |\n",
      "=========================================================================================================================\n"
     ]
    },
    {
     "name": "stderr",
     "output_type": "stream",
     "text": [
      "[Parallel(n_jobs=1)]: Done   3 out of   3 | elapsed:    9.7s finished\n"
     ]
    }
   ],
   "source": [
    "optimizer_tree.maximize(init_points=5, n_iter=15)  "
   ]
  },
  {
   "cell_type": "code",
   "execution_count": 98,
   "id": "f7d2c598-f15c-454f-b4ed-8182d345504c",
   "metadata": {},
   "outputs": [
    {
     "name": "stdout",
     "output_type": "stream",
     "text": [
      "{'n_estimators': 400, 'max_depth': 40, 'min_samples_split': 2, 'min_samples_leaf': 1, 'bootstrap_val': 0.11734270640368927, 'criterion_val': 0.16922819233831066, 'max_features_val': 0.9182114435034318, 'class_weight_val': 0.644863330672783}\n"
     ]
    }
   ],
   "source": [
    "best_params_tree = pd.DataFrame(optimizer_tree.res)\\\n",
    "    .sort_values(by=\"target\", ascending=False,)\\\n",
    "    .iloc[0][\"params\"]\n",
    "print(best_params_tree)"
   ]
  },
  {
   "cell_type": "code",
   "execution_count": 100,
   "id": "cbb6a1a0-9416-45fc-bc47-0d3da39e8543",
   "metadata": {},
   "outputs": [],
   "source": [
    "bootstrap=BOOTSTRAP[int(best_params_tree[\"bootstrap_val\"])]\n",
    "criterion= CRITERIONS[int(best_params_tree[\"criterion_val\"])]\n",
    "max_features= MAX_FEATURES[int(best_params_tree[\"max_features_val\"])]\n",
    "class_weight= CLASS_WEIGHTS[int(best_params_tree[\"class_weight_val\"])]"
   ]
  },
  {
   "cell_type": "code",
   "execution_count": 102,
   "id": "3674ef69-eaae-4bc9-81c8-d6124abf8dd6",
   "metadata": {},
   "outputs": [],
   "source": [
    "# best RandomForest model based on best parameters for performance petrics:\n",
    "best_rf_model = RandomForestClassifier(\n",
    "    n_estimators=int(best_params_tree[\"n_estimators\"]),\n",
    "    max_depth=int(best_params_tree[\"max_depth\"]),\n",
    "    min_samples_split=int(best_params_tree[\"min_samples_split\"]),\n",
    "    min_samples_leaf=int(best_params_tree[\"min_samples_leaf\"]),\n",
    "    bootstrap=bootstrap,\n",
    "    criterion=criterion,                 \n",
    "    max_features=max_features,                \n",
    "    class_weight=class_weight,\n",
    "    random_state=42,\n",
    "    n_jobs=-1\n",
    ")"
   ]
  },
  {
   "cell_type": "code",
   "execution_count": 104,
   "id": "3c498ead-6100-40de-b96e-9b69d7562317",
   "metadata": {},
   "outputs": [],
   "source": [
    "best_rf_model.fit(X_train_tree, y_train_tree)\n",
    "y_pred_tree_bopt = best_rf_model.predict(X_test_tree)"
   ]
  },
  {
   "cell_type": "markdown",
   "id": "b90ed36f-65e9-4d96-9091-a71d6220c101",
   "metadata": {},
   "source": [
    "## 3.3. Performance metrics:"
   ]
  },
  {
   "cell_type": "markdown",
   "id": "1b528bef-1992-4702-83a6-6456a046cf9d",
   "metadata": {},
   "source": [
    "### 3.3.1. Randomized search performance metrics:"
   ]
  },
  {
   "cell_type": "code",
   "execution_count": 107,
   "id": "7c882238-4ab6-4918-af51-425721ca14f7",
   "metadata": {},
   "outputs": [
    {
     "name": "stdout",
     "output_type": "stream",
     "text": [
      "random forest, randomized search, F1 score: 0.8135042468663375.\n",
      "random forest, randomized search, Precision score: 0.7665002512629653.\n",
      "random forest, randomized search, Recall score: 0.8804262830702438.\n",
      "\n",
      "random forest, randomized search, Classification Report:\n",
      "               precision    recall  f1-score   support\n",
      "\n",
      "           1       0.72      0.77      0.74        30\n",
      "           2       0.90      0.98      0.94       120\n",
      "           3       0.37      0.60      0.46      1753\n",
      "           4       0.99      0.91      0.95       400\n",
      "           5       0.64      0.93      0.76        15\n",
      "           6       0.77      0.99      0.87        75\n",
      "           7       0.76      0.93      0.84        70\n",
      "           8       0.98      0.94      0.96     30475\n",
      "\n",
      "    accuracy                           0.92     32938\n",
      "   macro avg       0.77      0.88      0.81     32938\n",
      "weighted avg       0.94      0.92      0.93     32938\n",
      ".\n",
      "\n"
     ]
    },
    {
     "data": {
      "image/png": "[encoded data removed]",
      "text/plain": [
       "<Figure size 640x480 with 2 Axes>"
      ]
     },
     "metadata": {},
     "output_type": "display_data"
    },
    {
     "name": "stdout",
     "output_type": "stream",
     "text": [
      "Text metrics saved to: C:\\Users\\Benoit Loze\\Desktop\\SPRINGBOARD\\_CURSUS\\29_Data_Storytelling\\29.4_CapstoneTwo_Final_Project_Report\\29.4_capstonetwo_finalproject_report\\reports\\model_metrics_files\\model_metrics_file_random_forest_randomized_search.txt\n",
      "Confusion matrix saved to: C:\\Users\\Benoit Loze\\Desktop\\SPRINGBOARD\\_CURSUS\\29_Data_Storytelling\\29.4_CapstoneTwo_Final_Project_Report\\29.4_capstonetwo_finalproject_report\\reports\\model_metrics_files\\confusion_matrix_random_forest_randomized_search.png\n",
      "{'f1': 0.8135042468663375, 'precision': 0.7665002512629653, 'recall': 0.8804262830702438}\n"
     ]
    }
   ],
   "source": [
    "rf_rgs_metrics = model_performance_metrics(\"random forest\", \"randomized search\", y_test_tree, y_pred_tree_rgs)\n",
    "print(rf_rgs_metrics)"
   ]
  },
  {
   "cell_type": "markdown",
   "id": "a8d15cb2-f8ff-4125-b733-b1f21b5141e0",
   "metadata": {},
   "source": [
    "### 3.3.2. Tree-based model, randomized search performance metrics observations:"
   ]
  },
  {
   "cell_type": "markdown",
   "id": "4f12e247-d90f-4e45-9bf7-47f1a7aed078",
   "metadata": {},
   "source": [
    "This confusion matrix of the random forest model based on randomized search shows:  \n",
    "\n",
    "Some few samples from the class 7 were still misclassified either as class 2, but in mush less proportion than in the regression model.  \n",
    "Close to 95% of samples from the class 7 were correctly predicted.  \n",
    "Some more samples of the class 2 were misclassified as the class 7.  \n",
    "\n",
    "\n",
    "The recall is high. However the rpecision is a bit lower as it is still penalized by the class 7 samples misclassification.  \n",
    "The F1 score is lower than the recall as the precision impacts its value.  \n",
    "Overall, the three performance metrics show a much better prediction from the random forest model over the multinomial logistic regression.  \n",
    "The F1 value demonstrates a model with a **very strong** prediction.  \n",
    "**Tree-based models seems to be more effective at handling class imbalance.**  "
   ]
  },
  {
   "cell_type": "markdown",
   "id": "3a522ed3-2a9b-488a-978f-5afa4fb52112",
   "metadata": {},
   "source": [
    "### 3.3.3. Bayesian optimization performance metrics:"
   ]
  },
  {
   "cell_type": "code",
   "execution_count": 111,
   "id": "ce6958e2-2aba-4e1b-abbb-75b3cadb6b11",
   "metadata": {},
   "outputs": [
    {
     "name": "stdout",
     "output_type": "stream",
     "text": [
      "random forest, bayesian optimization, F1 score: 0.8120757852067974.\n",
      "random forest, bayesian optimization, Precision score: 0.7925357759058091.\n",
      "random forest, bayesian optimization, Recall score: 0.8385540907762169.\n",
      "\n",
      "random forest, bayesian optimization, Classification Report:\n",
      "               precision    recall  f1-score   support\n",
      "\n",
      "           1       0.73      0.73      0.73        30\n",
      "           2       0.97      0.97      0.97       120\n",
      "           3       0.42      0.49      0.45      1753\n",
      "           4       0.97      0.94      0.95       400\n",
      "           5       0.62      0.87      0.72        15\n",
      "           6       0.83      0.95      0.88        75\n",
      "           7       0.84      0.80      0.82        70\n",
      "           8       0.97      0.96      0.97     30475\n",
      "\n",
      "    accuracy                           0.94     32938\n",
      "   macro avg       0.79      0.84      0.81     32938\n",
      "weighted avg       0.94      0.94      0.94     32938\n",
      ".\n",
      "\n"
     ]
    },
    {
     "data": {
      "image/png": "[encoded data removed]",
      "text/plain": [
       "<Figure size 640x480 with 2 Axes>"
      ]
     },
     "metadata": {},
     "output_type": "display_data"
    },
    {
     "name": "stdout",
     "output_type": "stream",
     "text": [
      "Text metrics saved to: C:\\Users\\Benoit Loze\\Desktop\\SPRINGBOARD\\_CURSUS\\29_Data_Storytelling\\29.4_CapstoneTwo_Final_Project_Report\\29.4_capstonetwo_finalproject_report\\reports\\model_metrics_files\\model_metrics_file_random_forest_bayesian_optimization.txt\n",
      "Confusion matrix saved to: C:\\Users\\Benoit Loze\\Desktop\\SPRINGBOARD\\_CURSUS\\29_Data_Storytelling\\29.4_CapstoneTwo_Final_Project_Report\\29.4_capstonetwo_finalproject_report\\reports\\model_metrics_files\\confusion_matrix_random_forest_bayesian_optimization.png\n",
      "{'f1': 0.8120757852067974, 'precision': 0.7925357759058091, 'recall': 0.8385540907762169}\n"
     ]
    }
   ],
   "source": [
    "rf_bopt_metrics = model_performance_metrics(\"random forest\", \"bayesian optimization\", y_test_tree, y_pred_tree_bopt)\n",
    "print(rf_bopt_metrics)"
   ]
  },
  {
   "cell_type": "markdown",
   "id": "164cfef4-d38a-49d5-bfe0-51dbcdaa583a",
   "metadata": {},
   "source": [
    "### 3.3.4. Tree-based model, bayesian optimization performance metrics observations:"
   ]
  },
  {
   "cell_type": "markdown",
   "id": "3571cf93-47eb-4a17-bca9-21a4a3929a72",
   "metadata": {},
   "source": [
    "Overall, the observations made for the random forest model based on randomized search remain still the same.  \n",
    "\n",
    "However, some recisions can be made:  \n",
    "- Less samples of class 7 are miscalssified as class 2, which positively impact the value of the precision metric.  \n",
    "- More samples of class 2 are miscalssified as class 7, which slightly negatively impact the value of the recall metric.  \n",
    "\n",
    "The F1 score remains very close to the random forest model based on randomized search but precision and recall present more **balanced and close values.**   "
   ]
  },
  {
   "cell_type": "markdown",
   "id": "cb3134c3-e6f1-4f2d-bdbb-4b2f47f934c6",
   "metadata": {},
   "source": [
    "### 3.3.5. Performance metrics comparison:"
   ]
  },
  {
   "cell_type": "code",
   "execution_count": 115,
   "id": "0231c015-8834-4e31-b4cb-ac4de67498d9",
   "metadata": {},
   "outputs": [
    {
     "name": "stdout",
     "output_type": "stream",
     "text": [
      "Performance metrics fro the random forest model based on randomized search: {'f1': 0.8135042468663375, 'precision': 0.7665002512629653, 'recall': 0.8804262830702438}.\n",
      "Performance metrics fro the random forest model based on bayesian optimization: {'f1': 0.8120757852067974, 'precision': 0.7925357759058091, 'recall': 0.8385540907762169}.\n"
     ]
    }
   ],
   "source": [
    "print(f\"Performance metrics fro the random forest model based on randomized search: {rf_rgs_metrics}.\")\n",
    "print(f\"Performance metrics fro the random forest model based on bayesian optimization: {rf_bopt_metrics}.\")"
   ]
  },
  {
   "cell_type": "markdown",
   "id": "7ebf045a-517a-4e90-bc2f-fe0e55ccbff1",
   "metadata": {},
   "source": [
    "**Bayesian optimization finds a slightly different optimal trade-off compared to randomized search.**  "
   ]
  },
  {
   "cell_type": "markdown",
   "id": "35fc2a2b-d831-4991-a9be-61f0dc177db3",
   "metadata": {},
   "source": [
    "# 4. Model selection:"
   ]
  },
  {
   "cell_type": "markdown",
   "id": "e169bc42-93dc-4e73-93a0-766cca29d15e",
   "metadata": {},
   "source": [
    "## Selected Model: Random Forest with Bayesian Optimization\n",
    "\n",
    "After evaluating multiple models, including multinomial logistic regression and different random forest tuning strategies, the best-performing model was identified as:  \n",
    "\n",
    "**Random Forest optimized using Bayesian Optimization**  \n",
    "\n",
    "### Why This Model?  \n",
    "- **F1 Score**: `0.81` — strong balance between precision and recall.  \n",
    "- **Precision**: `0.79` — the model makes relatively few false-positive predictions.  \n",
    "- **Recall**: `0.84` — the model is effective at capturing actual cases across all classes.  \n",
    "\n",
    "### Key Takeaways:  \n",
    "- The model handles **imbalanced classes** well and avoids overfitting to the dominant category.  \n",
    "- It accurately distinguishes between multiple types of building permits (8 classes).  \n",
    "- The use of **Bayesian Optimization** allowed for a more fine-tuned model than random grid search, improving prediction consistency.  "
   ]
  }
 ],
 "metadata": {
  "kernelspec": {
   "display_name": "Python 3 (ipykernel)",
   "language": "python",
   "name": "python3"
  },
  "language_info": {
   "codemirror_mode": {
    "name": "ipython",
    "version": 3
   },
   "file_extension": ".py",
   "mimetype": "text/x-python",
   "name": "python",
   "nbconvert_exporter": "python",
   "pygments_lexer": "ipython3",
   "version": "3.11.7"
  }
 },
 "nbformat": 4,
 "nbformat_minor": 5
}
